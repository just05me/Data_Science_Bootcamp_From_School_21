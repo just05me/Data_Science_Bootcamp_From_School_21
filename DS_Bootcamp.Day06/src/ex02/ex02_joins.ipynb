{
 "cells": [
  {
   "cell_type": "code",
   "execution_count": 11,
   "id": "9bb7bac5",
   "metadata": {},
   "outputs": [],
   "source": [
    "import pandas as pd\n",
    "import sqlite3"
   ]
  },
  {
   "cell_type": "markdown",
   "id": "eac93c47",
   "metadata": {},
   "source": [
    "## Подключение через `sqlite3`"
   ]
  },
  {
   "cell_type": "code",
   "execution_count": 12,
   "id": "69a05440",
   "metadata": {},
   "outputs": [],
   "source": [
    "data = sqlite3.connect(\"../data/checking-logs.sqlite\")"
   ]
  },
  {
   "cell_type": "markdown",
   "id": "8ee704ce",
   "metadata": {},
   "source": [
    "## Создать таблицу `datamart` с колонками: \n",
    "- `uid`\n",
    "- `labname`\n",
    "- `first_commit_ts`\n",
    "- `first_view_ts`\n",
    "\n",
    "## first_commit_ts — это timestamp из checker для первого коммита пользователя по конкретной лабораторной.\n",
    "\n",
    "## first_view_ts — время первого посещения новостной ленты (pageviews).\n",
    "\n",
    "## Фильтры:\n",
    "\n",
    "- `status = 'ready'`\n",
    "\n",
    "- `numTrials = 1`\n",
    "\n",
    "- `labname` в списке выше\n",
    "\n",
    "- Только пользователи `user_*`"
   ]
  },
  {
   "cell_type": "markdown",
   "id": "6ac185a3",
   "metadata": {},
   "source": [
    "---"
   ]
  },
  {
   "cell_type": "markdown",
   "id": "f886a4e0",
   "metadata": {},
   "source": [
    "- `CREATE TABLE IF NOT EXISTS datamart AS` -> Создает таблицу `datamart` если она еще не существует. `AS` Указатель на то что таблица будет создана на основе следующих запросов\n",
    "\n",
    "- `SELECT checker.uid, checker.labname, checker.timestamp AS first_commit_ts, pageviews.datetime AS first_view_ts`\n",
    "\n",
    "    - Выбирает 4 столбца с разных таблиц и 2 из них переименовывает с помощью `AS`\n",
    "\n",
    "- `FROM checker LEFT JOIN pageviews ON pageviews.uid = checker.uid`\n",
    "\n",
    "    - Левая основная таблица `checker` будет добавлена (внедрена) в правую таблицу `pageviews` с помощью `LEFT JOIN`\n",
    "\n",
    "        - `LEFT JOIN`\n",
    "            \n",
    "            - Все строки из левой таблицы `checker` включаются в результат, есть ли соответствующие строки в правой таблице `pageviews`\n",
    "            \n",
    "            - Для строк из `checker` у которых нет соответствия в `pageviews` значения столбцов из `pageviews` будут `NULL` в результирующем наборе данных\n",
    "\n",
    "            - Это сохранит все записи из `checker`, даже если у некоторых нет записей в `pageviews`\n",
    "\n",
    "- `WHERE checker.uid LIKE \"user_%\"` -> условия по которой 2 таблицы будут соединены.\n",
    "\n",
    "    - `AND status = 'ready'`\n",
    "\n",
    "    - `AND numTrials = 1`\n",
    "\n",
    "    - `AND labname IN ('laba04', 'laba04s', 'laba05', 'laba06', 'laba06s', 'project1')`\n",
    "\n",
    "    - `AND (pageviews.datetime = (SELECT MIN(datetime) FROM pageviews WHERE checker.uid = pageviews.uid) OR pageviews.datetime IS NULL)`\n",
    "\n",
    "        - `(pageviews.datetime = (SELECT MIN(datetime) FROM pageviews WHERE checker.uid = pageviews.uid)`\n",
    "\n",
    "            - тут спрашивается - Если `datetime` с `pageviews` равна минимальному значению `datetime` с `pageviews` и при этом `uid` 2 таблиц равны\n",
    "\n",
    "            - либо - `datetime` с `pageviews` равна `NULL`"
   ]
  },
  {
   "cell_type": "markdown",
   "id": "bfbce703",
   "metadata": {},
   "source": [
    "---"
   ]
  },
  {
   "cell_type": "markdown",
   "id": "cd57cf9d",
   "metadata": {},
   "source": [
    "- `data.execute(sql_request)` - `execute` -> отправляет запрос в БД"
   ]
  },
  {
   "cell_type": "code",
   "execution_count": 13,
   "id": "0f311649",
   "metadata": {},
   "outputs": [
    {
     "data": {
      "text/plain": [
       "<sqlite3.Cursor at 0x7418d0b35b40>"
      ]
     },
     "execution_count": 13,
     "metadata": {},
     "output_type": "execute_result"
    }
   ],
   "source": [
    "sql_request = \"\"\"\n",
    "CREATE TABLE IF NOT EXISTS datamart AS\n",
    "\n",
    "SELECT checker.uid, checker.labname, checker.timestamp AS first_commit_ts, pageviews.datetime AS first_view_ts\n",
    "\n",
    "FROM checker LEFT JOIN pageviews ON pageviews.uid = checker.uid\n",
    "\n",
    "WHERE checker.uid LIKE 'user_%'\n",
    "\n",
    "AND status = 'ready'\n",
    "\n",
    "AND numTrials = 1\n",
    "\n",
    "AND labname IN ('laba04', 'laba04s', 'laba05', 'laba06', 'laba06s', 'project1')\n",
    "\n",
    "AND (pageviews.datetime = (SELECT MIN(datetime) FROM pageviews WHERE checker.uid = pageviews.uid) OR pageviews.datetime IS NULL)\n",
    "\"\"\"\n",
    "\n",
    "data.execute(sql_request)"
   ]
  },
  {
   "cell_type": "markdown",
   "id": "d07f831d",
   "metadata": {},
   "source": [
    "## Преобразуйте временные поля в datetime64[ns]"
   ]
  },
  {
   "cell_type": "markdown",
   "id": "645ee38c",
   "metadata": {},
   "source": [
    "---"
   ]
  },
  {
   "cell_type": "markdown",
   "id": "21bda869",
   "metadata": {},
   "source": [
    "- `pd.read_sql()` - 3 параметра\n",
    "\n",
    "    - 1. `SQL` запрос\n",
    "\n",
    "    - 2. куда этот запрос отправиться\n",
    "\n",
    "    - 3. `parse_dates=['first_commit_ts', 'first_view_ts']`\n",
    "\n",
    "        - yказывает *pandas* автоматически преобразовать столбцы `first_commit_ts` и `first_view_ts` в тип `datetime64[ns]` при чтении"
   ]
  },
  {
   "cell_type": "code",
   "execution_count": 14,
   "id": "1a046397",
   "metadata": {},
   "outputs": [
    {
     "data": {
      "text/html": [
       "<div>\n",
       "<style scoped>\n",
       "    .dataframe tbody tr th:only-of-type {\n",
       "        vertical-align: middle;\n",
       "    }\n",
       "\n",
       "    .dataframe tbody tr th {\n",
       "        vertical-align: top;\n",
       "    }\n",
       "\n",
       "    .dataframe thead th {\n",
       "        text-align: right;\n",
       "    }\n",
       "</style>\n",
       "<table border=\"1\" class=\"dataframe\">\n",
       "  <thead>\n",
       "    <tr style=\"text-align: right;\">\n",
       "      <th></th>\n",
       "      <th>uid</th>\n",
       "      <th>labname</th>\n",
       "      <th>first_commit_ts</th>\n",
       "      <th>first_view_ts</th>\n",
       "    </tr>\n",
       "  </thead>\n",
       "  <tbody>\n",
       "    <tr>\n",
       "      <th>0</th>\n",
       "      <td>user_4</td>\n",
       "      <td>project1</td>\n",
       "      <td>2020-04-17 05:19:02.744528</td>\n",
       "      <td>NaT</td>\n",
       "    </tr>\n",
       "    <tr>\n",
       "      <th>1</th>\n",
       "      <td>user_4</td>\n",
       "      <td>laba04</td>\n",
       "      <td>2020-04-17 11:33:17.366400</td>\n",
       "      <td>NaT</td>\n",
       "    </tr>\n",
       "    <tr>\n",
       "      <th>2</th>\n",
       "      <td>user_4</td>\n",
       "      <td>laba04s</td>\n",
       "      <td>2020-04-17 11:48:41.992466</td>\n",
       "      <td>NaT</td>\n",
       "    </tr>\n",
       "    <tr>\n",
       "      <th>3</th>\n",
       "      <td>user_17</td>\n",
       "      <td>project1</td>\n",
       "      <td>2020-04-18 07:56:45.408648</td>\n",
       "      <td>2020-04-18 10:56:55.833899</td>\n",
       "    </tr>\n",
       "    <tr>\n",
       "      <th>4</th>\n",
       "      <td>user_30</td>\n",
       "      <td>laba04</td>\n",
       "      <td>2020-04-18 13:36:53.971502</td>\n",
       "      <td>2020-04-17 22:46:26.785035</td>\n",
       "    </tr>\n",
       "    <tr>\n",
       "      <th>...</th>\n",
       "      <td>...</td>\n",
       "      <td>...</td>\n",
       "      <td>...</td>\n",
       "      <td>...</td>\n",
       "    </tr>\n",
       "    <tr>\n",
       "      <th>135</th>\n",
       "      <td>user_23</td>\n",
       "      <td>laba06</td>\n",
       "      <td>2020-05-21 08:34:10.517205</td>\n",
       "      <td>NaT</td>\n",
       "    </tr>\n",
       "    <tr>\n",
       "      <th>136</th>\n",
       "      <td>user_19</td>\n",
       "      <td>laba06s</td>\n",
       "      <td>2020-05-21 13:27:06.705881</td>\n",
       "      <td>2020-04-21 20:30:38.034966</td>\n",
       "    </tr>\n",
       "    <tr>\n",
       "      <th>137</th>\n",
       "      <td>user_23</td>\n",
       "      <td>laba06s</td>\n",
       "      <td>2020-05-21 14:29:15.709568</td>\n",
       "      <td>NaT</td>\n",
       "    </tr>\n",
       "    <tr>\n",
       "      <th>138</th>\n",
       "      <td>user_17</td>\n",
       "      <td>laba06</td>\n",
       "      <td>2020-05-21 15:21:31.567615</td>\n",
       "      <td>2020-04-18 10:56:55.833899</td>\n",
       "    </tr>\n",
       "    <tr>\n",
       "      <th>139</th>\n",
       "      <td>user_17</td>\n",
       "      <td>laba06s</td>\n",
       "      <td>2020-05-21 17:39:17.783615</td>\n",
       "      <td>2020-04-18 10:56:55.833899</td>\n",
       "    </tr>\n",
       "  </tbody>\n",
       "</table>\n",
       "<p>140 rows × 4 columns</p>\n",
       "</div>"
      ],
      "text/plain": [
       "         uid   labname            first_commit_ts              first_view_ts\n",
       "0     user_4  project1 2020-04-17 05:19:02.744528                        NaT\n",
       "1     user_4    laba04 2020-04-17 11:33:17.366400                        NaT\n",
       "2     user_4   laba04s 2020-04-17 11:48:41.992466                        NaT\n",
       "3    user_17  project1 2020-04-18 07:56:45.408648 2020-04-18 10:56:55.833899\n",
       "4    user_30    laba04 2020-04-18 13:36:53.971502 2020-04-17 22:46:26.785035\n",
       "..       ...       ...                        ...                        ...\n",
       "135  user_23    laba06 2020-05-21 08:34:10.517205                        NaT\n",
       "136  user_19   laba06s 2020-05-21 13:27:06.705881 2020-04-21 20:30:38.034966\n",
       "137  user_23   laba06s 2020-05-21 14:29:15.709568                        NaT\n",
       "138  user_17    laba06 2020-05-21 15:21:31.567615 2020-04-18 10:56:55.833899\n",
       "139  user_17   laba06s 2020-05-21 17:39:17.783615 2020-04-18 10:56:55.833899\n",
       "\n",
       "[140 rows x 4 columns]"
      ]
     },
     "execution_count": 14,
     "metadata": {},
     "output_type": "execute_result"
    }
   ],
   "source": [
    "datamart = pd.read_sql('SELECT * FROM datamart', data, parse_dates=['first_commit_ts', 'first_view_ts'])\n",
    "\n",
    "datamart"
   ]
  },
  {
   "cell_type": "markdown",
   "id": "5ceee91d",
   "metadata": {},
   "source": [
    "## Создайте DataFrame test (с пользователями, у которых есть first_view_ts) и control (у которых его нет).\n",
    "\n",
    "## В control замените пропуски средним временем первого просмотра из test."
   ]
  },
  {
   "cell_type": "markdown",
   "id": "6148ddfa",
   "metadata": {},
   "source": [
    "---"
   ]
  },
  {
   "cell_type": "markdown",
   "id": "39a411db",
   "metadata": {},
   "source": [
    "- создаем 2 датафрейма из `datamart`\n",
    "\n",
    "- 1. `test` - берет в себя строки в которых значения `first_view_ts` не `NULL`\n",
    "\n",
    "- 2. `control` - берет в себя строки в которых  `first_view_ts` == `NUL`"
   ]
  },
  {
   "cell_type": "code",
   "execution_count": 15,
   "id": "a2539f11",
   "metadata": {},
   "outputs": [],
   "source": [
    "test = datamart[datamart[\"first_view_ts\"].notnull()]\n",
    "\n",
    "control = datamart[datamart[\"first_view_ts\"].isnull()]"
   ]
  },
  {
   "cell_type": "code",
   "execution_count": 16,
   "id": "c7601d76",
   "metadata": {},
   "outputs": [
    {
     "name": "stdout",
     "output_type": "stream",
     "text": [
      "<class 'pandas.core.frame.DataFrame'>\n",
      "Index: 59 entries, 3 to 139\n",
      "Data columns (total 4 columns):\n",
      " #   Column           Non-Null Count  Dtype         \n",
      "---  ------           --------------  -----         \n",
      " 0   uid              59 non-null     object        \n",
      " 1   labname          59 non-null     object        \n",
      " 2   first_commit_ts  59 non-null     datetime64[ns]\n",
      " 3   first_view_ts    59 non-null     datetime64[ns]\n",
      "dtypes: datetime64[ns](2), object(2)\n",
      "memory usage: 2.3+ KB\n"
     ]
    }
   ],
   "source": [
    "test.info()"
   ]
  },
  {
   "cell_type": "code",
   "execution_count": 17,
   "id": "938ea0e0",
   "metadata": {},
   "outputs": [
    {
     "name": "stdout",
     "output_type": "stream",
     "text": [
      "<class 'pandas.core.frame.DataFrame'>\n",
      "Index: 81 entries, 0 to 137\n",
      "Data columns (total 4 columns):\n",
      " #   Column           Non-Null Count  Dtype         \n",
      "---  ------           --------------  -----         \n",
      " 0   uid              81 non-null     object        \n",
      " 1   labname          81 non-null     object        \n",
      " 2   first_commit_ts  81 non-null     datetime64[ns]\n",
      " 3   first_view_ts    0 non-null      datetime64[ns]\n",
      "dtypes: datetime64[ns](2), object(2)\n",
      "memory usage: 3.2+ KB\n"
     ]
    }
   ],
   "source": [
    "control.info()"
   ]
  },
  {
   "cell_type": "markdown",
   "id": "cfc472d6",
   "metadata": {},
   "source": [
    "## Сохраните обе таблицы в БД"
   ]
  },
  {
   "cell_type": "code",
   "execution_count": 21,
   "id": "48b41045",
   "metadata": {},
   "outputs": [
    {
     "data": {
      "text/html": [
       "<div>\n",
       "<style scoped>\n",
       "    .dataframe tbody tr th:only-of-type {\n",
       "        vertical-align: middle;\n",
       "    }\n",
       "\n",
       "    .dataframe tbody tr th {\n",
       "        vertical-align: top;\n",
       "    }\n",
       "\n",
       "    .dataframe thead th {\n",
       "        text-align: right;\n",
       "    }\n",
       "</style>\n",
       "<table border=\"1\" class=\"dataframe\">\n",
       "  <thead>\n",
       "    <tr style=\"text-align: right;\">\n",
       "      <th></th>\n",
       "      <th>index</th>\n",
       "      <th>uid</th>\n",
       "      <th>labname</th>\n",
       "      <th>first_commit_ts</th>\n",
       "      <th>first_view_ts</th>\n",
       "    </tr>\n",
       "  </thead>\n",
       "  <tbody>\n",
       "    <tr>\n",
       "      <th>0</th>\n",
       "      <td>3</td>\n",
       "      <td>user_17</td>\n",
       "      <td>project1</td>\n",
       "      <td>2020-04-18 07:56:45.408648</td>\n",
       "      <td>2020-04-18 10:56:55.833899</td>\n",
       "    </tr>\n",
       "    <tr>\n",
       "      <th>1</th>\n",
       "      <td>4</td>\n",
       "      <td>user_30</td>\n",
       "      <td>laba04</td>\n",
       "      <td>2020-04-18 13:36:53.971502</td>\n",
       "      <td>2020-04-17 22:46:26.785035</td>\n",
       "    </tr>\n",
       "    <tr>\n",
       "      <th>2</th>\n",
       "      <td>7</td>\n",
       "      <td>user_30</td>\n",
       "      <td>laba04s</td>\n",
       "      <td>2020-04-18 14:51:37.498399</td>\n",
       "      <td>2020-04-17 22:46:26.785035</td>\n",
       "    </tr>\n",
       "    <tr>\n",
       "      <th>3</th>\n",
       "      <td>8</td>\n",
       "      <td>user_14</td>\n",
       "      <td>laba04</td>\n",
       "      <td>2020-04-18 15:14:00.312338</td>\n",
       "      <td>2020-04-18 10:53:52.623447</td>\n",
       "    </tr>\n",
       "    <tr>\n",
       "      <th>4</th>\n",
       "      <td>11</td>\n",
       "      <td>user_14</td>\n",
       "      <td>laba04s</td>\n",
       "      <td>2020-04-18 22:30:30.247628</td>\n",
       "      <td>2020-04-18 10:53:52.623447</td>\n",
       "    </tr>\n",
       "    <tr>\n",
       "      <th>5</th>\n",
       "      <td>18</td>\n",
       "      <td>user_19</td>\n",
       "      <td>laba04</td>\n",
       "      <td>2020-04-20 19:05:01.297780</td>\n",
       "      <td>2020-04-21 20:30:38.034966</td>\n",
       "    </tr>\n",
       "    <tr>\n",
       "      <th>6</th>\n",
       "      <td>19</td>\n",
       "      <td>user_25</td>\n",
       "      <td>laba04</td>\n",
       "      <td>2020-04-20 19:16:50.673054</td>\n",
       "      <td>2020-05-09 23:54:54.260791</td>\n",
       "    </tr>\n",
       "    <tr>\n",
       "      <th>7</th>\n",
       "      <td>20</td>\n",
       "      <td>user_21</td>\n",
       "      <td>laba04</td>\n",
       "      <td>2020-04-21 17:48:00.487806</td>\n",
       "      <td>2020-04-22 22:40:36.824081</td>\n",
       "    </tr>\n",
       "    <tr>\n",
       "      <th>8</th>\n",
       "      <td>21</td>\n",
       "      <td>user_30</td>\n",
       "      <td>project1</td>\n",
       "      <td>2020-04-22 12:36:24.053518</td>\n",
       "      <td>2020-04-17 22:46:26.785035</td>\n",
       "    </tr>\n",
       "    <tr>\n",
       "      <th>9</th>\n",
       "      <td>23</td>\n",
       "      <td>user_21</td>\n",
       "      <td>laba04s</td>\n",
       "      <td>2020-04-22 20:09:21.857747</td>\n",
       "      <td>2020-04-22 22:40:36.824081</td>\n",
       "    </tr>\n",
       "  </tbody>\n",
       "</table>\n",
       "</div>"
      ],
      "text/plain": [
       "   index      uid   labname             first_commit_ts  \\\n",
       "0      3  user_17  project1  2020-04-18 07:56:45.408648   \n",
       "1      4  user_30    laba04  2020-04-18 13:36:53.971502   \n",
       "2      7  user_30   laba04s  2020-04-18 14:51:37.498399   \n",
       "3      8  user_14    laba04  2020-04-18 15:14:00.312338   \n",
       "4     11  user_14   laba04s  2020-04-18 22:30:30.247628   \n",
       "5     18  user_19    laba04  2020-04-20 19:05:01.297780   \n",
       "6     19  user_25    laba04  2020-04-20 19:16:50.673054   \n",
       "7     20  user_21    laba04  2020-04-21 17:48:00.487806   \n",
       "8     21  user_30  project1  2020-04-22 12:36:24.053518   \n",
       "9     23  user_21   laba04s  2020-04-22 20:09:21.857747   \n",
       "\n",
       "                first_view_ts  \n",
       "0  2020-04-18 10:56:55.833899  \n",
       "1  2020-04-17 22:46:26.785035  \n",
       "2  2020-04-17 22:46:26.785035  \n",
       "3  2020-04-18 10:53:52.623447  \n",
       "4  2020-04-18 10:53:52.623447  \n",
       "5  2020-04-21 20:30:38.034966  \n",
       "6  2020-05-09 23:54:54.260791  \n",
       "7  2020-04-22 22:40:36.824081  \n",
       "8  2020-04-17 22:46:26.785035  \n",
       "9  2020-04-22 22:40:36.824081  "
      ]
     },
     "execution_count": 21,
     "metadata": {},
     "output_type": "execute_result"
    }
   ],
   "source": [
    "# test.to_sql(\"test\", data)\n",
    "# control.to_sql(\"control\", data)\n",
    "\n",
    "pd.read_sql(\"SELECT * FROM test LIMIT 10\", data)"
   ]
  },
  {
   "cell_type": "markdown",
   "id": "27ab8b75",
   "metadata": {},
   "source": [
    "## Закрываем соединение с БД"
   ]
  },
  {
   "cell_type": "code",
   "execution_count": 22,
   "id": "45d4eb9d",
   "metadata": {},
   "outputs": [],
   "source": [
    "data.close()"
   ]
  },
  {
   "cell_type": "code",
   "execution_count": null,
   "id": "3827a609",
   "metadata": {},
   "outputs": [],
   "source": []
  }
 ],
 "metadata": {
  "kernelspec": {
   "display_name": "PandasVenv",
   "language": "python",
   "name": "python3"
  },
  "language_info": {
   "codemirror_mode": {
    "name": "ipython",
    "version": 3
   },
   "file_extension": ".py",
   "mimetype": "text/x-python",
   "name": "python",
   "nbconvert_exporter": "python",
   "pygments_lexer": "ipython3",
   "version": "3.12.7"
  }
 },
 "nbformat": 4,
 "nbformat_minor": 5
}
