{
 "cells": [
  {
   "cell_type": "code",
   "execution_count": 2,
   "id": "f35dec57",
   "metadata": {},
   "outputs": [],
   "source": [
    "import pandas as pd\n",
    "import sqlite3"
   ]
  },
  {
   "cell_type": "markdown",
   "id": "9216246b",
   "metadata": {},
   "source": [
    "## Подключение через `sqlite3`"
   ]
  },
  {
   "cell_type": "code",
   "execution_count": 3,
   "id": "617e360e",
   "metadata": {},
   "outputs": [],
   "source": [
    "data = sqlite3.connect(\"../data/checking-logs.sqlite\")"
   ]
  },
  {
   "cell_type": "markdown",
   "id": "a00c2156",
   "metadata": {},
   "source": [
    "## Для `test` и `control` посчитать среднюю разницу `avg_diff` до и после первого посещения новостной ленты."
   ]
  },
  {
   "cell_type": "markdown",
   "id": "34cbde47",
   "metadata": {},
   "source": [
    "---"
   ]
  },
  {
   "cell_type": "markdown",
   "id": "dc54d0b6",
   "metadata": {},
   "source": [
    "- Создается времення таблица `all_delts`\n",
    "\n",
    "- `DATETIME(deadlines.deadlines, 'unixepoch') AS deadline`\n",
    "\n",
    "    - Преобразует столбец `deadlines.deadlines` из таблицы `deadlines` в читаемый формат даты и времени\n",
    "\n",
    "- `(deadlines.deadlines - unixepoch(first_commit_ts)) / 3600.0 AS delta_commit_deadline`\n",
    "\n",
    "    - Вычисляет разницу во времени между дедлайном `deadlines.deadlines` и первым коммитом `first_commit_ts` в часах\n",
    "    \n",
    "    - Деление на 3600.0 для получения float\n",
    "\n",
    "- `CASE WHEN first_view_ts <= first_commit_ts THEN 'after' ELSE 'before' END AS time`\n",
    "\n",
    "    - Создает столбец `time`, который указывает, был ли первый просмотр страницы `first_view_ts` раньше или позже первого коммита `first_commit_ts`\n",
    "\n",
    "- `FROM test JOIN deadlines ON deadlines.labs = test.labname`\n",
    "\n",
    "    - Соединяет таблицу `test` с таблицей `deadlines` по условию - столбец `labs` в таблице `deadlines` совпадает со столбцом `labname` в таблице `test`. Это связывает каждую лабораторную работу с ее дедлайном\n",
    "\n",
    "- `WHERE labname != 'project1'`\n",
    "\n",
    "    - лючает строки, где `labname` в таблице `test` равен `'project1'`\n",
    "\n",
    "- `time` -> `'befor'` / `'after'`\n",
    "\n",
    "- `AVG(delta_commit_deadline) AS avg_diff`\n",
    "\n",
    "    - Вычисляет среднее значение `delta_commit_deadline` - разница в часах между дедлайном и первым коммитом для каждой группы `time`\n",
    "\n",
    "- `GROUP BY time`\n",
    "\n",
    "    - Группирует результаты по столбцу `time`, создавая отдельные строки"
   ]
  },
  {
   "cell_type": "code",
   "execution_count": 4,
   "id": "d988ff83",
   "metadata": {},
   "outputs": [
    {
     "data": {
      "text/html": [
       "<div>\n",
       "<style scoped>\n",
       "    .dataframe tbody tr th:only-of-type {\n",
       "        vertical-align: middle;\n",
       "    }\n",
       "\n",
       "    .dataframe tbody tr th {\n",
       "        vertical-align: top;\n",
       "    }\n",
       "\n",
       "    .dataframe thead th {\n",
       "        text-align: right;\n",
       "    }\n",
       "</style>\n",
       "<table border=\"1\" class=\"dataframe\">\n",
       "  <thead>\n",
       "    <tr style=\"text-align: right;\">\n",
       "      <th></th>\n",
       "      <th>time</th>\n",
       "      <th>avg_diff</th>\n",
       "    </tr>\n",
       "  </thead>\n",
       "  <tbody>\n",
       "    <tr>\n",
       "      <th>0</th>\n",
       "      <td>after</td>\n",
       "      <td>103.953446</td>\n",
       "    </tr>\n",
       "    <tr>\n",
       "      <th>1</th>\n",
       "      <td>before</td>\n",
       "      <td>61.156632</td>\n",
       "    </tr>\n",
       "  </tbody>\n",
       "</table>\n",
       "</div>"
      ],
      "text/plain": [
       "     time    avg_diff\n",
       "0   after  103.953446\n",
       "1  before   61.156632"
      ]
     },
     "execution_count": 4,
     "metadata": {},
     "output_type": "execute_result"
    }
   ],
   "source": [
    "sql_request = \"\"\"\n",
    "WITH all_delts AS (\n",
    "    SELECT uid, \n",
    "           first_view_ts, \n",
    "           first_commit_ts, \n",
    "           DATETIME(deadlines.deadlines, 'unixepoch') AS deadline,\n",
    "           (deadlines.deadlines - unixepoch(first_commit_ts)) / 3600.0 AS delta_commit_deadline,\n",
    "           CASE\n",
    "               WHEN first_view_ts <= first_commit_ts THEN 'after' \n",
    "               ELSE 'before' \n",
    "           END AS time\n",
    "    FROM test\n",
    "    JOIN deadlines ON deadlines.labs = test.labname\n",
    "    WHERE labname != 'project1'\n",
    ")\n",
    "SELECT time, AVG(delta_commit_deadline) AS avg_diff \n",
    "FROM all_delts \n",
    "GROUP BY time\n",
    "\"\"\"\n",
    "\n",
    "test_res = pd.read_sql(sql_request, data)\n",
    "\n",
    "test_res"
   ]
  },
  {
   "cell_type": "markdown",
   "id": "04d85106",
   "metadata": {},
   "source": [
    "## В `control` вместо времени первого просмотра используется среднее значение из `test`"
   ]
  },
  {
   "cell_type": "markdown",
   "id": "07001c69",
   "metadata": {},
   "source": [
    "---"
   ]
  },
  {
   "cell_type": "markdown",
   "id": "b401de5b",
   "metadata": {},
   "source": [
    "- `DATETIME(deadlines.deadlines, 'unixepoch') AS deadline`\n",
    "\n",
    "    - Преобразует столбец `deadlines.deadlines` из таблицы `deadlines` в читаемый формат даты и времени\n",
    "\n",
    "- `(deadlines - unixepoch(first_commit_ts)) / 3600 AS delta_commit_deadline`\n",
    "\n",
    "    - Вычисляет разницу во времени между дедлайном `deadlines.deadlines` и первым коммитом `first_commit_ts` в часах\n",
    "    \n",
    "    - Деление на 3600 переводит секунды в часы\n",
    "\n",
    "- `CASE WHEN first_view_ts <= first_commit_ts THEN 'after' ELSE 'before' END AS time`\n",
    "\n",
    "    - Создает столбец `time`  указывает был ли первый просмотр раньше или позже либо одновременно с первым коммитом\n",
    "\n",
    "        - `time = 'after'`\n",
    "            \n",
    "            - Если `first_view_ts <= first_commit_ts`\n",
    "        \n",
    "        - `time = 'before'`\n",
    "            \n",
    "            - Если `first_view_ts > first_commit_ts`\n",
    "\n",
    "- `FROM control JOIN deadlines ON deadlines.labs = control.labname`\n",
    "\n",
    "    - Соединяет таблицу `control` с таблицей `deadlines`, где столбец `labs` в `deadlines` совпадает со столбцом `labname` в `control`. Это связывает каждую лабораторную работу с ее дедлайном\n",
    "\n",
    "- `WHERE labname != 'project1'`\n",
    "\n",
    "    - Исключает строки, где `labname` в таблице `control` == `'project1'`\n",
    "\n",
    "- `time` -> `'befor'` / `'after'`\n",
    "\n",
    "- `AVG(delta_commit_deadline) AS avg_diff`\n",
    "\n",
    "    - Вычисляет среднее значение `delta_commit_deadline` - разница в часах между дедлайном и первым коммитом для каждой группы `time`\n",
    "\n",
    "- `GROUP BY time`\n",
    "\n",
    "    - Группирует результаты по столбцу `time`, создавая отдельные строки"
   ]
  },
  {
   "cell_type": "code",
   "execution_count": 5,
   "id": "6b107ee5",
   "metadata": {},
   "outputs": [
    {
     "data": {
      "text/html": [
       "<div>\n",
       "<style scoped>\n",
       "    .dataframe tbody tr th:only-of-type {\n",
       "        vertical-align: middle;\n",
       "    }\n",
       "\n",
       "    .dataframe tbody tr th {\n",
       "        vertical-align: top;\n",
       "    }\n",
       "\n",
       "    .dataframe thead th {\n",
       "        text-align: right;\n",
       "    }\n",
       "</style>\n",
       "<table border=\"1\" class=\"dataframe\">\n",
       "  <thead>\n",
       "    <tr style=\"text-align: right;\">\n",
       "      <th></th>\n",
       "      <th>time</th>\n",
       "      <th>avg_diff</th>\n",
       "    </tr>\n",
       "  </thead>\n",
       "  <tbody>\n",
       "    <tr>\n",
       "      <th>0</th>\n",
       "      <td>before</td>\n",
       "      <td>107.576814</td>\n",
       "    </tr>\n",
       "  </tbody>\n",
       "</table>\n",
       "</div>"
      ],
      "text/plain": [
       "     time    avg_diff\n",
       "0  before  107.576814"
      ]
     },
     "execution_count": 5,
     "metadata": {},
     "output_type": "execute_result"
    }
   ],
   "source": [
    "sql_request = \"\"\"\n",
    "WITH all_delts AS (\n",
    "    SELECT uid,\n",
    "           first_view_ts,\n",
    "           first_commit_ts,\n",
    "           DATETIME(deadlines.deadlines, 'unixepoch') AS deadline,\n",
    "           (deadlines - unixepoch(first_commit_ts)) / 3600.0 AS delta_commit_deadline,\n",
    "            CASE\n",
    "                WHEN first_view_ts <= first_commit_ts THEN 'after'\n",
    "                ELSE 'before'\n",
    "            END AS time\n",
    "    FROM control\n",
    "    JOIN deadlines ON deadlines.labs = control.labname\n",
    "    WHERE labname != 'project1'\n",
    ")\n",
    "SELECT time, AVG(delta_commit_deadline) AS avg_diff\n",
    "FROM all_delts\n",
    "GROUP BY time\n",
    "\"\"\"\n",
    "\n",
    "control_res = pd.read_sql(sql_request, data)\n",
    "\n",
    "control_res"
   ]
  },
  {
   "cell_type": "markdown",
   "id": "a6041fee",
   "metadata": {},
   "source": [
    "## Закрываем соединение с БД"
   ]
  },
  {
   "cell_type": "code",
   "execution_count": 6,
   "id": "63af0ffb",
   "metadata": {},
   "outputs": [],
   "source": [
    "data.close()"
   ]
  }
 ],
 "metadata": {
  "kernelspec": {
   "display_name": "PandasVenv",
   "language": "python",
   "name": "python3"
  },
  "language_info": {
   "codemirror_mode": {
    "name": "ipython",
    "version": 3
   },
   "file_extension": ".py",
   "mimetype": "text/x-python",
   "name": "python",
   "nbconvert_exporter": "python",
   "pygments_lexer": "ipython3",
   "version": "3.12.7"
  }
 },
 "nbformat": 4,
 "nbformat_minor": 5
}
