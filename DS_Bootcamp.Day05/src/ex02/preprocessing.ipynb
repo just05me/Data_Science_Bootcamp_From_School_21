{
 "cells": [
  {
   "cell_type": "code",
   "execution_count": 30,
   "id": "bfdc3c6d",
   "metadata": {},
   "outputs": [],
   "source": [
    "import pandas as pd"
   ]
  },
  {
   "cell_type": "markdown",
   "id": "6c51b60a",
   "metadata": {},
   "source": [
    "- `index_col=\"ID\"` -> для столбца с индексом присваивается название `\"ID\"`"
   ]
  },
  {
   "cell_type": "code",
   "execution_count": 31,
   "id": "428a2317",
   "metadata": {},
   "outputs": [
    {
     "data": {
      "text/html": [
       "<div>\n",
       "<style scoped>\n",
       "    .dataframe tbody tr th:only-of-type {\n",
       "        vertical-align: middle;\n",
       "    }\n",
       "\n",
       "    .dataframe tbody tr th {\n",
       "        vertical-align: top;\n",
       "    }\n",
       "\n",
       "    .dataframe thead th {\n",
       "        text-align: right;\n",
       "    }\n",
       "</style>\n",
       "<table border=\"1\" class=\"dataframe\">\n",
       "  <thead>\n",
       "    <tr style=\"text-align: right;\">\n",
       "      <th></th>\n",
       "      <th>CarNumber</th>\n",
       "      <th>Make_n_model</th>\n",
       "      <th>Refund</th>\n",
       "      <th>Fines</th>\n",
       "      <th>History</th>\n",
       "    </tr>\n",
       "    <tr>\n",
       "      <th>ID</th>\n",
       "      <th></th>\n",
       "      <th></th>\n",
       "      <th></th>\n",
       "      <th></th>\n",
       "      <th></th>\n",
       "    </tr>\n",
       "  </thead>\n",
       "  <tbody>\n",
       "    <tr>\n",
       "      <th>0</th>\n",
       "      <td>Y163O8161RUS</td>\n",
       "      <td>Ford Focus</td>\n",
       "      <td>2.0</td>\n",
       "      <td>3200.0</td>\n",
       "      <td>NaN</td>\n",
       "    </tr>\n",
       "    <tr>\n",
       "      <th>1</th>\n",
       "      <td>E432XX77RUS</td>\n",
       "      <td>Toyota Camry</td>\n",
       "      <td>1.0</td>\n",
       "      <td>6500.0</td>\n",
       "      <td>NaN</td>\n",
       "    </tr>\n",
       "    <tr>\n",
       "      <th>2</th>\n",
       "      <td>7184TT36RUS</td>\n",
       "      <td>Ford Focus</td>\n",
       "      <td>1.0</td>\n",
       "      <td>2100.0</td>\n",
       "      <td>NaN</td>\n",
       "    </tr>\n",
       "    <tr>\n",
       "      <th>3</th>\n",
       "      <td>X582HE161RUS</td>\n",
       "      <td>Ford Focus</td>\n",
       "      <td>2.0</td>\n",
       "      <td>2000.0</td>\n",
       "      <td>NaN</td>\n",
       "    </tr>\n",
       "    <tr>\n",
       "      <th>4</th>\n",
       "      <td>E34877152RUS</td>\n",
       "      <td>Ford Focus</td>\n",
       "      <td>2.0</td>\n",
       "      <td>6100.0</td>\n",
       "      <td>NaN</td>\n",
       "    </tr>\n",
       "    <tr>\n",
       "      <th>...</th>\n",
       "      <td>...</td>\n",
       "      <td>...</td>\n",
       "      <td>...</td>\n",
       "      <td>...</td>\n",
       "      <td>...</td>\n",
       "    </tr>\n",
       "    <tr>\n",
       "      <th>926</th>\n",
       "      <td>Y163O8161RUS</td>\n",
       "      <td>Ford Focus</td>\n",
       "      <td>2.0</td>\n",
       "      <td>1600.0</td>\n",
       "      <td>NaN</td>\n",
       "    </tr>\n",
       "    <tr>\n",
       "      <th>927</th>\n",
       "      <td>M0309X197RUS</td>\n",
       "      <td>Ford Focus</td>\n",
       "      <td>1.0</td>\n",
       "      <td>22300.0</td>\n",
       "      <td>NaN</td>\n",
       "    </tr>\n",
       "    <tr>\n",
       "      <th>928</th>\n",
       "      <td>O673E8197RUS</td>\n",
       "      <td>Ford Focus</td>\n",
       "      <td>2.0</td>\n",
       "      <td>600.0</td>\n",
       "      <td>NaN</td>\n",
       "    </tr>\n",
       "    <tr>\n",
       "      <th>929</th>\n",
       "      <td>8610T8154RUS</td>\n",
       "      <td>Ford Focus</td>\n",
       "      <td>1.0</td>\n",
       "      <td>2000.0</td>\n",
       "      <td>NaN</td>\n",
       "    </tr>\n",
       "    <tr>\n",
       "      <th>930</th>\n",
       "      <td>H419XE197RUS</td>\n",
       "      <td>Toyota Corolla</td>\n",
       "      <td>2.0</td>\n",
       "      <td>NaN</td>\n",
       "      <td>2.0</td>\n",
       "    </tr>\n",
       "  </tbody>\n",
       "</table>\n",
       "<p>931 rows × 5 columns</p>\n",
       "</div>"
      ],
      "text/plain": [
       "        CarNumber    Make_n_model  Refund    Fines  History\n",
       "ID                                                         \n",
       "0    Y163O8161RUS      Ford Focus     2.0   3200.0      NaN\n",
       "1     E432XX77RUS    Toyota Camry     1.0   6500.0      NaN\n",
       "2     7184TT36RUS      Ford Focus     1.0   2100.0      NaN\n",
       "3    X582HE161RUS      Ford Focus     2.0   2000.0      NaN\n",
       "4    E34877152RUS      Ford Focus     2.0   6100.0      NaN\n",
       "..            ...             ...     ...      ...      ...\n",
       "926  Y163O8161RUS      Ford Focus     2.0   1600.0      NaN\n",
       "927  M0309X197RUS      Ford Focus     1.0  22300.0      NaN\n",
       "928  O673E8197RUS      Ford Focus     2.0    600.0      NaN\n",
       "929  8610T8154RUS      Ford Focus     1.0   2000.0      NaN\n",
       "930  H419XE197RUS  Toyota Corolla     2.0      NaN      2.0\n",
       "\n",
       "[931 rows x 5 columns]"
      ]
     },
     "execution_count": 31,
     "metadata": {},
     "output_type": "execute_result"
    }
   ],
   "source": [
    "data = pd.read_csv(\"data/auto.csv\", index_col=\"ID\")\n",
    "\n",
    "data"
   ]
  },
  {
   "cell_type": "markdown",
   "id": "5a837afc",
   "metadata": {},
   "source": [
    "## Количество наблюдений"
   ]
  },
  {
   "cell_type": "code",
   "execution_count": 32,
   "id": "2688c17a",
   "metadata": {},
   "outputs": [
    {
     "data": {
      "text/plain": [
       "CarNumber       931\n",
       "Make_n_model    931\n",
       "Refund          914\n",
       "Fines           869\n",
       "History          82\n",
       "dtype: int64"
      ]
     },
     "execution_count": 32,
     "metadata": {},
     "output_type": "execute_result"
    }
   ],
   "source": [
    "data.count()"
   ]
  },
  {
   "cell_type": "markdown",
   "id": "ed8f4829",
   "metadata": {},
   "source": [
    "## Работа с дубликатами\n",
    "- С столбцами `CarNumber`, `Make_n_model`, `Fines`."
   ]
  },
  {
   "cell_type": "markdown",
   "id": "6742711c",
   "metadata": {},
   "source": [
    "- `data = data.drop_duplicates(subset=['CarNumber', 'Make_n_model', 'Fines'], keep=\"last\")`\n",
    "\n",
    "    - `drop_duplicates()` -> удаляет дублирующиеся строки в датафрейме *data* на основе столбцов: `'CarNumber'`, `'Make_n_model'`, `'Fines'`\n",
    "\n",
    "    - `subset=['CarNumber', 'Make_n_model', 'Fines']` -> дубликаты определяются по комбинации этих трёх значений. Если две или более строки имеют одинаковые значения в `'CarNumber'`, `'Make_n_model'` и `'Fines'`\n",
    "\n",
    "    - `keep=\"last\"` -> при обнаружении дубликатов сохраняется последняя строка, а все предыдущие дублирующиеся строки удаляются"
   ]
  },
  {
   "cell_type": "code",
   "execution_count": 33,
   "id": "905d5973",
   "metadata": {},
   "outputs": [
    {
     "data": {
      "text/plain": [
       "CarNumber       725\n",
       "Make_n_model    725\n",
       "Refund          713\n",
       "Fines           665\n",
       "History          65\n",
       "dtype: int64"
      ]
     },
     "execution_count": 33,
     "metadata": {},
     "output_type": "execute_result"
    }
   ],
   "source": [
    "data = data.drop_duplicates(subset=['CarNumber', 'Make_n_model', 'Fines'], keep=\"last\")\n",
    "\n",
    "data.count()"
   ]
  },
  {
   "cell_type": "markdown",
   "id": "90ce5462",
   "metadata": {},
   "source": [
    "## Считаем сколько пропущенных значиний с каждого столбца"
   ]
  },
  {
   "cell_type": "markdown",
   "id": "7a8070b8",
   "metadata": {},
   "source": [
    "- `data.isna()` -> создаёт такой же датафрейм что и *data*, где значение `True` соответствует ячейкам с `NaN`, а `False` не пустые ячейки\n",
    "\n",
    "- `sum()` -> суммирует значения `True`"
   ]
  },
  {
   "cell_type": "code",
   "execution_count": 34,
   "id": "01d0f7e0",
   "metadata": {},
   "outputs": [
    {
     "data": {
      "text/plain": [
       "CarNumber         0\n",
       "Make_n_model      0\n",
       "Refund           12\n",
       "Fines            60\n",
       "History         660\n",
       "dtype: int64"
      ]
     },
     "execution_count": 34,
     "metadata": {},
     "output_type": "execute_result"
    }
   ],
   "source": [
    "data.isna().sum()"
   ]
  },
  {
   "cell_type": "markdown",
   "id": "bfa462ae",
   "metadata": {},
   "source": [
    "## Удаляем столбцы в которых 500 и больше пропущенных значений"
   ]
  },
  {
   "cell_type": "markdown",
   "id": "8da10d90",
   "metadata": {},
   "source": [
    "- `data = data.dropna(axis=1, thresh=(len(data) - 500))`\n",
    "\n",
    "    - `dropna()` -> удаляет столбцы `axis=1` из датафрейма *data*, в которых количество непропущенных значений меньше `thresh`\n",
    "\n",
    "    - `axis=1` -> показатель что нужно удалаять. Если `exis=0` удаляет строку, `exis=1` удаляет столбец\n",
    "\n",
    "    - `thresh` -> определяет минимальное количество непропущенных значений\n",
    "\n",
    "    - `thresh=(len(data) - 500)` -> `len(data)` - количество строк в датафрейме. Столбец должен содержать не менее `len(data) - 500` непропущенных значений, чтобы остаться в датафрейме. Все остальное будет удалено"
   ]
  },
  {
   "cell_type": "code",
   "execution_count": 35,
   "id": "3227447f",
   "metadata": {},
   "outputs": [
    {
     "data": {
      "text/plain": [
       "CarNumber        0\n",
       "Make_n_model     0\n",
       "Refund          12\n",
       "Fines           60\n",
       "dtype: int64"
      ]
     },
     "execution_count": 35,
     "metadata": {},
     "output_type": "execute_result"
    }
   ],
   "source": [
    "data = data.dropna(axis=1, thresh=(len(data) - 500))\n",
    "\n",
    "data.isna().sum()"
   ]
  },
  {
   "cell_type": "markdown",
   "id": "65644e63",
   "metadata": {},
   "source": [
    "## Заменяем пропущенные значения на предыдущие с столбца `Refund` "
   ]
  },
  {
   "cell_type": "markdown",
   "id": "3fc3d670",
   "metadata": {},
   "source": [
    "- `data['Refund'] = data['Refund'].ffill()`\n",
    "\n",
    "    - `ffill()` -> заполняет пропущенные NaN в столбце `'Refund'` датафрейма *data* значениями из предыдущей непропущенной строки\n",
    "\n",
    "    - Если в строке есть `NaN` в столбце `'Refund'`, оно заменяется значением из ближайшей предыдущей строки, где значение `'Refund'` не является `NaN`"
   ]
  },
  {
   "cell_type": "code",
   "execution_count": 36,
   "id": "15763781",
   "metadata": {},
   "outputs": [
    {
     "data": {
      "text/plain": [
       "CarNumber        0\n",
       "Make_n_model     0\n",
       "Refund           0\n",
       "Fines           60\n",
       "dtype: int64"
      ]
     },
     "execution_count": 36,
     "metadata": {},
     "output_type": "execute_result"
    }
   ],
   "source": [
    "data['Refund'] = data['Refund'].ffill()\n",
    "\n",
    "data.isna().sum()"
   ]
  },
  {
   "cell_type": "markdown",
   "id": "18674723",
   "metadata": {},
   "source": [
    "## Заменяем пропущенные значения на среднее значения в столбце `Fines`"
   ]
  },
  {
   "cell_type": "markdown",
   "id": "fd03db24",
   "metadata": {},
   "source": [
    "- `mean_fines = data['Fines'].mean()`\n",
    "\n",
    "    - Вычисляет среднее арифметическое значение `'Fines'` датафрейма *data*. `NaN` автоматически игнорируются при вычислении\n",
    "\n",
    "- `data['Fines'] = data['Fines'].fillna(mean_fines)`\n",
    "\n",
    "    - `fillna(mean_fines)` -> заменяет все `NaN` в столбце `'Fines'` на вычисленное среднее значение `mean_fines`\n",
    "\n",
    "    - Изменения применяются к столбцу `'Fines'`"
   ]
  },
  {
   "cell_type": "code",
   "execution_count": 37,
   "id": "b9b3baef",
   "metadata": {},
   "outputs": [
    {
     "data": {
      "text/plain": [
       "CarNumber       0\n",
       "Make_n_model    0\n",
       "Refund          0\n",
       "Fines           0\n",
       "dtype: int64"
      ]
     },
     "execution_count": 37,
     "metadata": {},
     "output_type": "execute_result"
    }
   ],
   "source": [
    "mean_fines = data['Fines'].mean()\n",
    "\n",
    "data['Fines'] = data['Fines'].fillna(mean_fines)\n",
    "\n",
    "data.isna().sum()"
   ]
  },
  {
   "cell_type": "markdown",
   "id": "f3020d4e",
   "metadata": {},
   "source": [
    "## Делим столбец `Make_n_model` на 2 стобца - `Make`, `Model`"
   ]
  },
  {
   "cell_type": "markdown",
   "id": "91e78c58",
   "metadata": {},
   "source": [
    "- `data[['Make', 'Model']] = data['Make_n_model'].apply(lambda x: pd.Series(str(x).split(' ', 1)))`\n",
    "\n",
    "    - `data['Make_n_model']` -> обращается к столбцу `'Make_n_model'` в датафрейме *data*\n",
    "\n",
    "    - `str(x).split(' ', 1)` -> преобразует значение `x` в строку и разделяет его на две части по первому пробелу. Параметр `1` в `split` ограничивает разделение только первым пробелом, чтобы модели с пробелами корректно разделялись\n",
    "\n",
    "    - `pd.Series(str(x).split(' ', 1))` -> преобразует полученный список в объект `pandas Series`. Первый элемент становится значением для столбца `'Make'` второй для `'Model'`\n",
    "\n",
    "    - `apply(lambda x: pd.Series(str(x).split(' ', 1)))` -> применяет эту функцию разделения к каждому значению в столбце `'Make_n_model'`\n",
    "\n",
    "    - `data[['Make', 'Model']]` -> создаёт или обновляет `'Make'` и `'Model'` в датафрейме *data*"
   ]
  },
  {
   "cell_type": "markdown",
   "id": "14ec745a",
   "metadata": {},
   "source": [
    "---"
   ]
  },
  {
   "cell_type": "code",
   "execution_count": 38,
   "id": "5e6c4a0e",
   "metadata": {},
   "outputs": [],
   "source": [
    "# data[['Make', 'Model']] = data['Make_n_model'].apply(lambda x: pd.Series(str(x).split(' ', 1)))"
   ]
  },
  {
   "cell_type": "markdown",
   "id": "07f737dc",
   "metadata": {},
   "source": [
    "---"
   ]
  },
  {
   "cell_type": "markdown",
   "id": "81efc464",
   "metadata": {},
   "source": [
    "- `data.iterrows()` -> метод pandas используемый для перебора строк *DataFrame*\n",
    "\n",
    "    - Он возвращает *итератор*, который выдает пары `index`, `row` для каждой строки в *DataFrame*\n",
    "\n",
    "    - Позволяет пройти по всем строкам *DataFrame* и получить доступ к индексу строки и её данным\n",
    "\n",
    "- `isinstance(object, type)` -> функция Python, проверяет, является ли `object` экземпляром указанного типа `type` или одного из типов, если передан кортеж типов\n",
    "\n",
    "    - Используется для проверки типа данных, чтобы избежать ошибок при работе с некорректными типами"
   ]
  },
  {
   "cell_type": "code",
   "execution_count": null,
   "id": "466da4de",
   "metadata": {},
   "outputs": [],
   "source": [
    "data['Make'] = ''\n",
    "data['Model'] = ''\n",
    "\n",
    "def split_make_model(value):\n",
    "    if isinstance(value, str) and value.strip():\n",
    "        parts = value.split(' ', 1)\n",
    "        if len(parts) == 1:\n",
    "            return parts[0], ''\n",
    "        return parts[0], parts[1]\n",
    "    else:\n",
    "        return '', ''\n",
    "\n",
    "for index, row in data.iterrows():\n",
    "    make, model = split_make_model(row['Make_n_model'])\n",
    "    data.at[index, 'Make'] = make\n",
    "    data.at[index, 'Model'] = model"
   ]
  },
  {
   "cell_type": "markdown",
   "id": "b815edec",
   "metadata": {},
   "source": [
    "## Удаляем столбец `Make_n_model`"
   ]
  },
  {
   "cell_type": "code",
   "execution_count": 41,
   "id": "ed6a88f1",
   "metadata": {},
   "outputs": [
    {
     "data": {
      "text/html": [
       "<div>\n",
       "<style scoped>\n",
       "    .dataframe tbody tr th:only-of-type {\n",
       "        vertical-align: middle;\n",
       "    }\n",
       "\n",
       "    .dataframe tbody tr th {\n",
       "        vertical-align: top;\n",
       "    }\n",
       "\n",
       "    .dataframe thead th {\n",
       "        text-align: right;\n",
       "    }\n",
       "</style>\n",
       "<table border=\"1\" class=\"dataframe\">\n",
       "  <thead>\n",
       "    <tr style=\"text-align: right;\">\n",
       "      <th></th>\n",
       "      <th>CarNumber</th>\n",
       "      <th>Refund</th>\n",
       "      <th>Fines</th>\n",
       "      <th>Make</th>\n",
       "      <th>Model</th>\n",
       "    </tr>\n",
       "    <tr>\n",
       "      <th>ID</th>\n",
       "      <th></th>\n",
       "      <th></th>\n",
       "      <th></th>\n",
       "      <th></th>\n",
       "      <th></th>\n",
       "    </tr>\n",
       "  </thead>\n",
       "  <tbody>\n",
       "    <tr>\n",
       "      <th>0</th>\n",
       "      <td>Y163O8161RUS</td>\n",
       "      <td>2.0</td>\n",
       "      <td>3200.000000</td>\n",
       "      <td>Ford</td>\n",
       "      <td>Focus</td>\n",
       "    </tr>\n",
       "    <tr>\n",
       "      <th>1</th>\n",
       "      <td>E432XX77RUS</td>\n",
       "      <td>1.0</td>\n",
       "      <td>6500.000000</td>\n",
       "      <td>Toyota</td>\n",
       "      <td>Camry</td>\n",
       "    </tr>\n",
       "    <tr>\n",
       "      <th>2</th>\n",
       "      <td>7184TT36RUS</td>\n",
       "      <td>1.0</td>\n",
       "      <td>2100.000000</td>\n",
       "      <td>Ford</td>\n",
       "      <td>Focus</td>\n",
       "    </tr>\n",
       "    <tr>\n",
       "      <th>3</th>\n",
       "      <td>X582HE161RUS</td>\n",
       "      <td>2.0</td>\n",
       "      <td>2000.000000</td>\n",
       "      <td>Ford</td>\n",
       "      <td>Focus</td>\n",
       "    </tr>\n",
       "    <tr>\n",
       "      <th>5</th>\n",
       "      <td>92918M178RUS</td>\n",
       "      <td>1.0</td>\n",
       "      <td>5700.000000</td>\n",
       "      <td>Ford</td>\n",
       "      <td>Focus</td>\n",
       "    </tr>\n",
       "    <tr>\n",
       "      <th>...</th>\n",
       "      <td>...</td>\n",
       "      <td>...</td>\n",
       "      <td>...</td>\n",
       "      <td>...</td>\n",
       "      <td>...</td>\n",
       "    </tr>\n",
       "    <tr>\n",
       "      <th>926</th>\n",
       "      <td>Y163O8161RUS</td>\n",
       "      <td>2.0</td>\n",
       "      <td>1600.000000</td>\n",
       "      <td>Ford</td>\n",
       "      <td>Focus</td>\n",
       "    </tr>\n",
       "    <tr>\n",
       "      <th>927</th>\n",
       "      <td>M0309X197RUS</td>\n",
       "      <td>1.0</td>\n",
       "      <td>22300.000000</td>\n",
       "      <td>Ford</td>\n",
       "      <td>Focus</td>\n",
       "    </tr>\n",
       "    <tr>\n",
       "      <th>928</th>\n",
       "      <td>O673E8197RUS</td>\n",
       "      <td>2.0</td>\n",
       "      <td>600.000000</td>\n",
       "      <td>Ford</td>\n",
       "      <td>Focus</td>\n",
       "    </tr>\n",
       "    <tr>\n",
       "      <th>929</th>\n",
       "      <td>8610T8154RUS</td>\n",
       "      <td>1.0</td>\n",
       "      <td>2000.000000</td>\n",
       "      <td>Ford</td>\n",
       "      <td>Focus</td>\n",
       "    </tr>\n",
       "    <tr>\n",
       "      <th>930</th>\n",
       "      <td>H419XE197RUS</td>\n",
       "      <td>2.0</td>\n",
       "      <td>8594.586466</td>\n",
       "      <td>Toyota</td>\n",
       "      <td>Corolla</td>\n",
       "    </tr>\n",
       "  </tbody>\n",
       "</table>\n",
       "<p>725 rows × 5 columns</p>\n",
       "</div>"
      ],
      "text/plain": [
       "        CarNumber  Refund         Fines    Make    Model\n",
       "ID                                                      \n",
       "0    Y163O8161RUS     2.0   3200.000000    Ford    Focus\n",
       "1     E432XX77RUS     1.0   6500.000000  Toyota    Camry\n",
       "2     7184TT36RUS     1.0   2100.000000    Ford    Focus\n",
       "3    X582HE161RUS     2.0   2000.000000    Ford    Focus\n",
       "5    92918M178RUS     1.0   5700.000000    Ford    Focus\n",
       "..            ...     ...           ...     ...      ...\n",
       "926  Y163O8161RUS     2.0   1600.000000    Ford    Focus\n",
       "927  M0309X197RUS     1.0  22300.000000    Ford    Focus\n",
       "928  O673E8197RUS     2.0    600.000000    Ford    Focus\n",
       "929  8610T8154RUS     1.0   2000.000000    Ford    Focus\n",
       "930  H419XE197RUS     2.0   8594.586466  Toyota  Corolla\n",
       "\n",
       "[725 rows x 5 columns]"
      ]
     },
     "execution_count": 41,
     "metadata": {},
     "output_type": "execute_result"
    }
   ],
   "source": [
    "data = data.drop(columns=[\"Make_n_model\"])\n",
    "\n",
    "data"
   ]
  },
  {
   "cell_type": "code",
   "execution_count": 42,
   "id": "04633872",
   "metadata": {},
   "outputs": [
    {
     "data": {
      "text/plain": [
       "ID\n",
       "0        Ford\n",
       "1      Toyota\n",
       "2        Ford\n",
       "3        Ford\n",
       "5        Ford\n",
       "        ...  \n",
       "926      Ford\n",
       "927      Ford\n",
       "928      Ford\n",
       "929      Ford\n",
       "930    Toyota\n",
       "Name: Make, Length: 725, dtype: object"
      ]
     },
     "execution_count": 42,
     "metadata": {},
     "output_type": "execute_result"
    }
   ],
   "source": [
    "data['Make']"
   ]
  },
  {
   "cell_type": "code",
   "execution_count": 43,
   "id": "e8cffe6a",
   "metadata": {},
   "outputs": [
    {
     "data": {
      "text/plain": [
       "ID\n",
       "0        Focus\n",
       "1        Camry\n",
       "2        Focus\n",
       "3        Focus\n",
       "5        Focus\n",
       "        ...   \n",
       "926      Focus\n",
       "927      Focus\n",
       "928      Focus\n",
       "929      Focus\n",
       "930    Corolla\n",
       "Name: Model, Length: 725, dtype: object"
      ]
     },
     "execution_count": 43,
     "metadata": {},
     "output_type": "execute_result"
    }
   ],
   "source": [
    "data[\"Model\"]"
   ]
  },
  {
   "cell_type": "markdown",
   "id": "54a98f30",
   "metadata": {},
   "source": [
    "## Сохроняем все это в `Json`"
   ]
  },
  {
   "cell_type": "markdown",
   "id": "1b6049b3",
   "metadata": {},
   "source": [
    "- `data.to_json(\"auto.json\", orient=\"records\", indent=5)`\n",
    "\n",
    "    - `to_json()` -> экспортирует датафрейм *data* в файл JSON с именем `\"auto.json\"`. Kоторый будет создан или перезаписан\n",
    "\n",
    "    - `orient=\"records\"` -> Данные будут записаны в формате списка записей. Каждая строка датафрейма представлена как отдельный объект `JSON`. Каждый объект содержит пары `\"ключ-значение\"`\n",
    "\n",
    "        - `Ключ` -> имена столбцов\n",
    "\n",
    "        - `Значение` -> данные из соответствующей строки\n",
    "\n",
    "    - `indent=5` -> задаёт отступы в `JSON` файле - 5 пробелов"
   ]
  },
  {
   "cell_type": "code",
   "execution_count": 44,
   "id": "8a41ba93",
   "metadata": {},
   "outputs": [],
   "source": [
    "data.to_json(\"auto.json\", orient=\"records\", indent=5)"
   ]
  }
 ],
 "metadata": {
  "kernelspec": {
   "display_name": "PandasVenv",
   "language": "python",
   "name": "python3"
  },
  "language_info": {
   "codemirror_mode": {
    "name": "ipython",
    "version": 3
   },
   "file_extension": ".py",
   "mimetype": "text/x-python",
   "name": "python",
   "nbconvert_exporter": "python",
   "pygments_lexer": "ipython3",
   "version": "3.12.7"
  }
 },
 "nbformat": 4,
 "nbformat_minor": 5
}
