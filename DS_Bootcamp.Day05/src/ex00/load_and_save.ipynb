{
 "cells": [
  {
   "cell_type": "markdown",
   "id": "d0108424-773b-47e4-b689-7d8138c2dfd3",
   "metadata": {},
   "source": [
    "# Загрузить и сохранить"
   ]
  },
  {
   "cell_type": "markdown",
   "id": "53465594",
   "metadata": {},
   "source": [
    "#### Чтобы скрипт работал нужно скачать pandas\n",
    "\n",
    "##### Терминал\n",
    "\n",
    "```\n",
    "pip install pandas\n",
    "```\n",
    "\n",
    "\n",
    "\n",
    "#### Либо открыть тут режим Code и запустить\n",
    "\n",
    "##### Через jupyter\n",
    "\n",
    "```\n",
    "!pip install pandas\n",
    "```"
   ]
  },
  {
   "cell_type": "markdown",
   "id": "2b5adb34",
   "metadata": {},
   "source": [
    "!pip install pandas"
   ]
  },
  {
   "cell_type": "code",
   "execution_count": 12,
   "id": "e3915a73",
   "metadata": {},
   "outputs": [],
   "source": [
    "import pandas as pd"
   ]
  },
  {
   "cell_type": "markdown",
   "id": "3c97fc17",
   "metadata": {},
   "source": [
    "## Читаем файл с данными"
   ]
  },
  {
   "cell_type": "markdown",
   "id": "a9f393c3",
   "metadata": {},
   "source": [
    "- `header = None` -> Читает данные и берет их без заголовков - 1 строки. Вместо них будут индексы и начнуться они с 0\n",
    "\n",
    "- `skipfooter = 2` -> Пропускает строки с конца таблицы. Тут указано пропустить 2 строки в конце таблицы\n",
    "\n",
    "- `skiprows=[2,3]` -> Пропускает строки как `skipfooter`, но она делает это по индексам. Тут указано пропустить строки с индексами 2 и 3\n",
    "\n",
    "- `engine = \"python\"` -> Указывается движок `Python` для обработки файла. По дефолту стоит `C` для обработки\n",
    "\n",
    "- `sep = \"\\t\"` -> Разделение полей. Тут задано табуляция"
   ]
  },
  {
   "cell_type": "code",
   "execution_count": 13,
   "id": "24ffcac8",
   "metadata": {},
   "outputs": [
    {
     "data": {
      "text/html": [
       "<div>\n",
       "<style scoped>\n",
       "    .dataframe tbody tr th:only-of-type {\n",
       "        vertical-align: middle;\n",
       "    }\n",
       "\n",
       "    .dataframe tbody tr th {\n",
       "        vertical-align: top;\n",
       "    }\n",
       "\n",
       "    .dataframe thead th {\n",
       "        text-align: right;\n",
       "    }\n",
       "</style>\n",
       "<table border=\"1\" class=\"dataframe\">\n",
       "  <thead>\n",
       "    <tr style=\"text-align: right;\">\n",
       "      <th></th>\n",
       "      <th>0</th>\n",
       "      <th>1</th>\n",
       "    </tr>\n",
       "  </thead>\n",
       "  <tbody>\n",
       "    <tr>\n",
       "      <th>0</th>\n",
       "      <td>2020-04-17 12:01:08.463179</td>\n",
       "      <td>artem</td>\n",
       "    </tr>\n",
       "    <tr>\n",
       "      <th>1</th>\n",
       "      <td>2020-04-17 12:01:23.743946</td>\n",
       "      <td>artem</td>\n",
       "    </tr>\n",
       "    <tr>\n",
       "      <th>2</th>\n",
       "      <td>2020-04-17 12:35:52.735016</td>\n",
       "      <td>artem</td>\n",
       "    </tr>\n",
       "    <tr>\n",
       "      <th>3</th>\n",
       "      <td>2020-04-17 12:36:21.401412</td>\n",
       "      <td>oksana</td>\n",
       "    </tr>\n",
       "    <tr>\n",
       "      <th>4</th>\n",
       "      <td>2020-04-17 12:36:22.023355</td>\n",
       "      <td>oksana</td>\n",
       "    </tr>\n",
       "    <tr>\n",
       "      <th>...</th>\n",
       "      <td>...</td>\n",
       "      <td>...</td>\n",
       "    </tr>\n",
       "    <tr>\n",
       "      <th>1067</th>\n",
       "      <td>2020-05-21 16:36:40.915488</td>\n",
       "      <td>ekaterina</td>\n",
       "    </tr>\n",
       "    <tr>\n",
       "      <th>1068</th>\n",
       "      <td>2020-05-21 17:49:36.429237</td>\n",
       "      <td>maxim</td>\n",
       "    </tr>\n",
       "    <tr>\n",
       "      <th>1069</th>\n",
       "      <td>2020-05-21 18:45:20.441142</td>\n",
       "      <td>valentina</td>\n",
       "    </tr>\n",
       "    <tr>\n",
       "      <th>1070</th>\n",
       "      <td>2020-05-21 23:03:06.457819</td>\n",
       "      <td>maxim</td>\n",
       "    </tr>\n",
       "    <tr>\n",
       "      <th>1071</th>\n",
       "      <td>2020-05-21 23:23:49.995349</td>\n",
       "      <td>pavel</td>\n",
       "    </tr>\n",
       "  </tbody>\n",
       "</table>\n",
       "<p>1072 rows × 2 columns</p>\n",
       "</div>"
      ],
      "text/plain": [
       "                               0          1\n",
       "0     2020-04-17 12:01:08.463179      artem\n",
       "1     2020-04-17 12:01:23.743946      artem\n",
       "2     2020-04-17 12:35:52.735016      artem\n",
       "3     2020-04-17 12:36:21.401412     oksana\n",
       "4     2020-04-17 12:36:22.023355     oksana\n",
       "...                          ...        ...\n",
       "1067  2020-05-21 16:36:40.915488  ekaterina\n",
       "1068  2020-05-21 17:49:36.429237      maxim\n",
       "1069  2020-05-21 18:45:20.441142  valentina\n",
       "1070  2020-05-21 23:03:06.457819      maxim\n",
       "1071  2020-05-21 23:23:49.995349      pavel\n",
       "\n",
       "[1072 rows x 2 columns]"
      ]
     },
     "execution_count": 13,
     "metadata": {},
     "output_type": "execute_result"
    }
   ],
   "source": [
    "data_f = pd.read_csv(\"data/feed-views.log\", header = None, skipfooter = 2, skiprows = [2,3], engine = \"python\", sep=\"\\t\")\n",
    "data_f"
   ]
  },
  {
   "cell_type": "markdown",
   "id": "3b182eab",
   "metadata": {},
   "source": [
    "## Установить datetime как индекс "
   ]
  },
  {
   "cell_type": "code",
   "execution_count": 14,
   "id": "44e32a3b",
   "metadata": {},
   "outputs": [
    {
     "data": {
      "text/plain": [
       "Index(['datetime', 'user'], dtype='object')"
      ]
     },
     "execution_count": 14,
     "metadata": {},
     "output_type": "execute_result"
    }
   ],
   "source": [
    "data_f.columns = [\"datetime\", \"user\"]\n",
    "\n",
    "data_f.columns"
   ]
  },
  {
   "cell_type": "markdown",
   "id": "5a817c68",
   "metadata": {},
   "source": [
    "- Устанавливаем столбец `\"datetime\"` в качестве индекса датафрейма *data_f*. Это означает, что значения из столбца `\"datetime\"` станут метками строк, а сам столбец `\"datetime\"` будет удалён из состава обычных столбцов\n",
    "\n",
    "- `inplace=True` ->  это указатель тому что изменения применяются к датафрейму *data_f*, а не создаётся новый датафрейм"
   ]
  },
  {
   "cell_type": "code",
   "execution_count": 15,
   "id": "a406067b",
   "metadata": {},
   "outputs": [
    {
     "data": {
      "text/plain": [
       "<bound method DataFrame.set_index of                                  user\n",
       "datetime                             \n",
       "2020-04-17 12:01:08.463179      artem\n",
       "2020-04-17 12:01:23.743946      artem\n",
       "2020-04-17 12:35:52.735016      artem\n",
       "2020-04-17 12:36:21.401412     oksana\n",
       "2020-04-17 12:36:22.023355     oksana\n",
       "...                               ...\n",
       "2020-05-21 16:36:40.915488  ekaterina\n",
       "2020-05-21 17:49:36.429237      maxim\n",
       "2020-05-21 18:45:20.441142  valentina\n",
       "2020-05-21 23:03:06.457819      maxim\n",
       "2020-05-21 23:23:49.995349      pavel\n",
       "\n",
       "[1072 rows x 1 columns]>"
      ]
     },
     "execution_count": 15,
     "metadata": {},
     "output_type": "execute_result"
    }
   ],
   "source": [
    "data_f.set_index(\"datetime\", inplace=True)\n",
    "\n",
    "data_f.set_index"
   ]
  },
  {
   "cell_type": "markdown",
   "id": "805b0402",
   "metadata": {},
   "source": [
    "## Переименовать datetime на date_time"
   ]
  },
  {
   "cell_type": "markdown",
   "id": "874db74f",
   "metadata": {},
   "source": [
    "- Переименование индекса датафрейма\n",
    "\n",
    "- `data_f.index.name = \"date_time\"` -> Свойству `name` индекса датафрейма *data_f* присваивается новое значение `\"date_time\"`"
   ]
  },
  {
   "cell_type": "code",
   "execution_count": 16,
   "id": "b7d4baca",
   "metadata": {},
   "outputs": [
    {
     "data": {
      "text/plain": [
       "'date_time'"
      ]
     },
     "execution_count": 16,
     "metadata": {},
     "output_type": "execute_result"
    }
   ],
   "source": [
    "data_f.index.name = \"date_time\"\n",
    "\n",
    "data_f.index.name"
   ]
  },
  {
   "cell_type": "markdown",
   "id": "f9fac28e",
   "metadata": {},
   "source": [
    "## Сохранить полученные данные в файл"
   ]
  },
  {
   "cell_type": "markdown",
   "id": "7f7a9078",
   "metadata": {},
   "source": [
    "- Сохраняет полученный датафрейм в новый файл\n",
    "\n",
    "- `sep = \":\"` -> тут она указана как :"
   ]
  },
  {
   "cell_type": "code",
   "execution_count": 17,
   "id": "0488e9a1",
   "metadata": {},
   "outputs": [],
   "source": [
    "data_f.to_csv(\"data/feed-views-semicolon.log\", sep = \":\")"
   ]
  },
  {
   "cell_type": "markdown",
   "id": "d23ccb9a",
   "metadata": {},
   "source": [
    "## Полученный результат"
   ]
  },
  {
   "cell_type": "markdown",
   "id": "01a74c98",
   "metadata": {},
   "source": [
    "- Выводит первые 10 строк из датафрейма"
   ]
  },
  {
   "cell_type": "code",
   "execution_count": 18,
   "id": "a7002da4",
   "metadata": {},
   "outputs": [
    {
     "data": {
      "text/html": [
       "<div>\n",
       "<style scoped>\n",
       "    .dataframe tbody tr th:only-of-type {\n",
       "        vertical-align: middle;\n",
       "    }\n",
       "\n",
       "    .dataframe tbody tr th {\n",
       "        vertical-align: top;\n",
       "    }\n",
       "\n",
       "    .dataframe thead th {\n",
       "        text-align: right;\n",
       "    }\n",
       "</style>\n",
       "<table border=\"1\" class=\"dataframe\">\n",
       "  <thead>\n",
       "    <tr style=\"text-align: right;\">\n",
       "      <th></th>\n",
       "      <th>user</th>\n",
       "    </tr>\n",
       "    <tr>\n",
       "      <th>date_time</th>\n",
       "      <th></th>\n",
       "    </tr>\n",
       "  </thead>\n",
       "  <tbody>\n",
       "    <tr>\n",
       "      <th>2020-04-17 12:01:08.463179</th>\n",
       "      <td>artem</td>\n",
       "    </tr>\n",
       "    <tr>\n",
       "      <th>2020-04-17 12:01:23.743946</th>\n",
       "      <td>artem</td>\n",
       "    </tr>\n",
       "    <tr>\n",
       "      <th>2020-04-17 12:35:52.735016</th>\n",
       "      <td>artem</td>\n",
       "    </tr>\n",
       "    <tr>\n",
       "      <th>2020-04-17 12:36:21.401412</th>\n",
       "      <td>oksana</td>\n",
       "    </tr>\n",
       "    <tr>\n",
       "      <th>2020-04-17 12:36:22.023355</th>\n",
       "      <td>oksana</td>\n",
       "    </tr>\n",
       "    <tr>\n",
       "      <th>2020-04-17 13:55:19.129243</th>\n",
       "      <td>artem</td>\n",
       "    </tr>\n",
       "    <tr>\n",
       "      <th>2020-04-17 15:00:33.138530</th>\n",
       "      <td>artem</td>\n",
       "    </tr>\n",
       "    <tr>\n",
       "      <th>2020-04-17 15:14:09.581054</th>\n",
       "      <td>artem</td>\n",
       "    </tr>\n",
       "    <tr>\n",
       "      <th>2020-04-17 22:46:26.785035</th>\n",
       "      <td>vladislav</td>\n",
       "    </tr>\n",
       "    <tr>\n",
       "      <th>2020-04-18 00:30:45.051569</th>\n",
       "      <td>artem</td>\n",
       "    </tr>\n",
       "  </tbody>\n",
       "</table>\n",
       "</div>"
      ],
      "text/plain": [
       "                                 user\n",
       "date_time                            \n",
       "2020-04-17 12:01:08.463179      artem\n",
       "2020-04-17 12:01:23.743946      artem\n",
       "2020-04-17 12:35:52.735016      artem\n",
       "2020-04-17 12:36:21.401412     oksana\n",
       "2020-04-17 12:36:22.023355     oksana\n",
       "2020-04-17 13:55:19.129243      artem\n",
       "2020-04-17 15:00:33.138530      artem\n",
       "2020-04-17 15:14:09.581054      artem\n",
       "2020-04-17 22:46:26.785035  vladislav\n",
       "2020-04-18 00:30:45.051569      artem"
      ]
     },
     "execution_count": 18,
     "metadata": {},
     "output_type": "execute_result"
    }
   ],
   "source": [
    "data_f.head(10)"
   ]
  },
  {
   "cell_type": "markdown",
   "id": "8f2aa5e0",
   "metadata": {},
   "source": [
    "- Выводит последние 10 строк из датафрейма"
   ]
  },
  {
   "cell_type": "code",
   "execution_count": 19,
   "id": "22c11e40",
   "metadata": {},
   "outputs": [
    {
     "data": {
      "text/html": [
       "<div>\n",
       "<style scoped>\n",
       "    .dataframe tbody tr th:only-of-type {\n",
       "        vertical-align: middle;\n",
       "    }\n",
       "\n",
       "    .dataframe tbody tr th {\n",
       "        vertical-align: top;\n",
       "    }\n",
       "\n",
       "    .dataframe thead th {\n",
       "        text-align: right;\n",
       "    }\n",
       "</style>\n",
       "<table border=\"1\" class=\"dataframe\">\n",
       "  <thead>\n",
       "    <tr style=\"text-align: right;\">\n",
       "      <th></th>\n",
       "      <th>user</th>\n",
       "    </tr>\n",
       "    <tr>\n",
       "      <th>date_time</th>\n",
       "      <th></th>\n",
       "    </tr>\n",
       "  </thead>\n",
       "  <tbody>\n",
       "    <tr>\n",
       "      <th>2020-05-21 01:46:08.730098</th>\n",
       "      <td>valentina</td>\n",
       "    </tr>\n",
       "    <tr>\n",
       "      <th>2020-05-21 01:57:58.652380</th>\n",
       "      <td>pavel</td>\n",
       "    </tr>\n",
       "    <tr>\n",
       "      <th>2020-05-21 12:33:32.521770</th>\n",
       "      <td>maxim</td>\n",
       "    </tr>\n",
       "    <tr>\n",
       "      <th>2020-05-21 12:33:32.812265</th>\n",
       "      <td>maxim</td>\n",
       "    </tr>\n",
       "    <tr>\n",
       "      <th>2020-05-21 16:28:28.217529</th>\n",
       "      <td>ekaterina</td>\n",
       "    </tr>\n",
       "    <tr>\n",
       "      <th>2020-05-21 16:36:40.915488</th>\n",
       "      <td>ekaterina</td>\n",
       "    </tr>\n",
       "    <tr>\n",
       "      <th>2020-05-21 17:49:36.429237</th>\n",
       "      <td>maxim</td>\n",
       "    </tr>\n",
       "    <tr>\n",
       "      <th>2020-05-21 18:45:20.441142</th>\n",
       "      <td>valentina</td>\n",
       "    </tr>\n",
       "    <tr>\n",
       "      <th>2020-05-21 23:03:06.457819</th>\n",
       "      <td>maxim</td>\n",
       "    </tr>\n",
       "    <tr>\n",
       "      <th>2020-05-21 23:23:49.995349</th>\n",
       "      <td>pavel</td>\n",
       "    </tr>\n",
       "  </tbody>\n",
       "</table>\n",
       "</div>"
      ],
      "text/plain": [
       "                                 user\n",
       "date_time                            \n",
       "2020-05-21 01:46:08.730098  valentina\n",
       "2020-05-21 01:57:58.652380      pavel\n",
       "2020-05-21 12:33:32.521770      maxim\n",
       "2020-05-21 12:33:32.812265      maxim\n",
       "2020-05-21 16:28:28.217529  ekaterina\n",
       "2020-05-21 16:36:40.915488  ekaterina\n",
       "2020-05-21 17:49:36.429237      maxim\n",
       "2020-05-21 18:45:20.441142  valentina\n",
       "2020-05-21 23:03:06.457819      maxim\n",
       "2020-05-21 23:23:49.995349      pavel"
      ]
     },
     "execution_count": 19,
     "metadata": {},
     "output_type": "execute_result"
    }
   ],
   "source": [
    "data_f.tail(10)"
   ]
  }
 ],
 "metadata": {
  "kernelspec": {
   "display_name": "PandasVenv",
   "language": "python",
   "name": "python3"
  },
  "language_info": {
   "codemirror_mode": {
    "name": "ipython",
    "version": 3
   },
   "file_extension": ".py",
   "mimetype": "text/x-python",
   "name": "python",
   "nbconvert_exporter": "python",
   "pygments_lexer": "ipython3",
   "version": "3.12.7"
  }
 },
 "nbformat": 4,
 "nbformat_minor": 5
}
