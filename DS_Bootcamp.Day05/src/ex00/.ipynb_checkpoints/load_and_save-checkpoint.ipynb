{
 "cells": [
  {
   "cell_type": "markdown",
   "id": "90252e0c",
   "metadata": {},
   "source": [
    "# Загрузить и сохранить"
   ]
  },
  {
   "cell_type": "markdown",
   "id": "53465594",
   "metadata": {},
   "source": [
    "#### Чтобы скрипт работал нужно скачать pandas\n",
    "\n",
    "##### Терминал\n",
    "\n",
    "```\n",
    "pip install pandas\n",
    "```\n",
    "\n",
    "\n",
    "\n",
    "#### Либо открыть тут режим Code и запустить\n",
    "\n",
    "##### Через jupyter\n",
    "\n",
    "```\n",
    "!pip install pandas\n",
    "```"
   ]
  },
  {
   "cell_type": "code",
   "execution_count": null,
   "id": "e3915a73",
   "metadata": {
    "vscode": {
     "languageId": "plaintext"
    }
   },
   "outputs": [],
   "source": [
    "import pandas as pd"
   ]
  },
  {
   "cell_type": "markdown",
   "id": "3c97fc17",
   "metadata": {},
   "source": [
    "## Читаем файл с данными"
   ]
  },
  {
   "cell_type": "code",
   "execution_count": null,
   "id": "24ffcac8",
   "metadata": {
    "vscode": {
     "languageId": "plaintext"
    }
   },
   "outputs": [],
   "source": [
    "data_f = pd.read_csv(\"data/\")"
   ]
  },
  {
   "cell_type": "markdown",
   "id": "77157340",
   "metadata": {},
   "source": []
  }
 ],
 "metadata": {
  "language_info": {
   "name": "python"
  }
 },
 "nbformat": 4,
 "nbformat_minor": 5
}
