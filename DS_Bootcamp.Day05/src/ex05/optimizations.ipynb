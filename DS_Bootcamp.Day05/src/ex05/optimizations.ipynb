{
 "cells": [
  {
   "cell_type": "code",
   "execution_count": 1,
   "id": "8ccd5e6a",
   "metadata": {},
   "outputs": [],
   "source": [
    "import pandas as pd\n",
    "import gc"
   ]
  },
  {
   "cell_type": "markdown",
   "id": "b1beac34",
   "metadata": {},
   "source": [
    "## Загрузка данных"
   ]
  },
  {
   "cell_type": "code",
   "execution_count": 2,
   "id": "7e6eec70",
   "metadata": {},
   "outputs": [
    {
     "data": {
      "text/html": [
       "<div>\n",
       "<style scoped>\n",
       "    .dataframe tbody tr th:only-of-type {\n",
       "        vertical-align: middle;\n",
       "    }\n",
       "\n",
       "    .dataframe tbody tr th {\n",
       "        vertical-align: top;\n",
       "    }\n",
       "\n",
       "    .dataframe thead th {\n",
       "        text-align: right;\n",
       "    }\n",
       "</style>\n",
       "<table border=\"1\" class=\"dataframe\">\n",
       "  <thead>\n",
       "    <tr style=\"text-align: right;\">\n",
       "      <th></th>\n",
       "      <th>CarNumber</th>\n",
       "      <th>Refund</th>\n",
       "      <th>Fines</th>\n",
       "      <th>Make</th>\n",
       "      <th>Model</th>\n",
       "      <th>Year</th>\n",
       "    </tr>\n",
       "  </thead>\n",
       "  <tbody>\n",
       "    <tr>\n",
       "      <th>0</th>\n",
       "      <td>Y163O8161RUS</td>\n",
       "      <td>2.0</td>\n",
       "      <td>3200.0</td>\n",
       "      <td>Ford</td>\n",
       "      <td>Focus</td>\n",
       "      <td>1989</td>\n",
       "    </tr>\n",
       "    <tr>\n",
       "      <th>1</th>\n",
       "      <td>E432XX77RUS</td>\n",
       "      <td>1.0</td>\n",
       "      <td>6500.0</td>\n",
       "      <td>Toyota</td>\n",
       "      <td>Camry</td>\n",
       "      <td>1995</td>\n",
       "    </tr>\n",
       "    <tr>\n",
       "      <th>2</th>\n",
       "      <td>7184TT36RUS</td>\n",
       "      <td>1.0</td>\n",
       "      <td>2100.0</td>\n",
       "      <td>Ford</td>\n",
       "      <td>Focus</td>\n",
       "      <td>1984</td>\n",
       "    </tr>\n",
       "    <tr>\n",
       "      <th>3</th>\n",
       "      <td>X582HE161RUS</td>\n",
       "      <td>2.0</td>\n",
       "      <td>2000.0</td>\n",
       "      <td>Ford</td>\n",
       "      <td>Focus</td>\n",
       "      <td>2015</td>\n",
       "    </tr>\n",
       "    <tr>\n",
       "      <th>4</th>\n",
       "      <td>92918M178RUS</td>\n",
       "      <td>1.0</td>\n",
       "      <td>5700.0</td>\n",
       "      <td>Ford</td>\n",
       "      <td>Focus</td>\n",
       "      <td>2014</td>\n",
       "    </tr>\n",
       "    <tr>\n",
       "      <th>...</th>\n",
       "      <td>...</td>\n",
       "      <td>...</td>\n",
       "      <td>...</td>\n",
       "      <td>...</td>\n",
       "      <td>...</td>\n",
       "      <td>...</td>\n",
       "    </tr>\n",
       "    <tr>\n",
       "      <th>925</th>\n",
       "      <td>X123YZ77RUS</td>\n",
       "      <td>1.0</td>\n",
       "      <td>5000.0</td>\n",
       "      <td>Honda</td>\n",
       "      <td>Civic</td>\n",
       "      <td>1995</td>\n",
       "    </tr>\n",
       "    <tr>\n",
       "      <th>926</th>\n",
       "      <td>Y456AB77RUS</td>\n",
       "      <td>2.0</td>\n",
       "      <td>3200.0</td>\n",
       "      <td>Nissan</td>\n",
       "      <td>Sentra</td>\n",
       "      <td>2005</td>\n",
       "    </tr>\n",
       "    <tr>\n",
       "      <th>927</th>\n",
       "      <td>Z789CD77RUS</td>\n",
       "      <td>1.0</td>\n",
       "      <td>4100.0</td>\n",
       "      <td>Kia</td>\n",
       "      <td>Rio</td>\n",
       "      <td>2010</td>\n",
       "    </tr>\n",
       "    <tr>\n",
       "      <th>928</th>\n",
       "      <td>A012EF77RUS</td>\n",
       "      <td>2.0</td>\n",
       "      <td>2800.0</td>\n",
       "      <td>Hyundai</td>\n",
       "      <td>Elantra</td>\n",
       "      <td>2015</td>\n",
       "    </tr>\n",
       "    <tr>\n",
       "      <th>929</th>\n",
       "      <td>B345GH77RUS</td>\n",
       "      <td>1.0</td>\n",
       "      <td>7500.0</td>\n",
       "      <td>Mazda</td>\n",
       "      <td>3</td>\n",
       "      <td>2018</td>\n",
       "    </tr>\n",
       "  </tbody>\n",
       "</table>\n",
       "<p>930 rows × 6 columns</p>\n",
       "</div>"
      ],
      "text/plain": [
       "        CarNumber  Refund   Fines     Make    Model  Year\n",
       "0    Y163O8161RUS     2.0  3200.0     Ford    Focus  1989\n",
       "1     E432XX77RUS     1.0  6500.0   Toyota    Camry  1995\n",
       "2     7184TT36RUS     1.0  2100.0     Ford    Focus  1984\n",
       "3    X582HE161RUS     2.0  2000.0     Ford    Focus  2015\n",
       "4    92918M178RUS     1.0  5700.0     Ford    Focus  2014\n",
       "..            ...     ...     ...      ...      ...   ...\n",
       "925   X123YZ77RUS     1.0  5000.0    Honda    Civic  1995\n",
       "926   Y456AB77RUS     2.0  3200.0   Nissan   Sentra  2005\n",
       "927   Z789CD77RUS     1.0  4100.0      Kia      Rio  2010\n",
       "928   A012EF77RUS     2.0  2800.0  Hyundai  Elantra  2015\n",
       "929   B345GH77RUS     1.0  7500.0    Mazda        3  2018\n",
       "\n",
       "[930 rows x 6 columns]"
      ]
     },
     "execution_count": 2,
     "metadata": {},
     "output_type": "execute_result"
    }
   ],
   "source": [
    "data = pd.read_csv(\"../ex04/fines.csv\")\n",
    "\n",
    "data"
   ]
  },
  {
   "cell_type": "markdown",
   "id": "3782ae71",
   "metadata": {},
   "source": [
    "## Итерации"
   ]
  },
  {
   "cell_type": "markdown",
   "id": "7e2ccdeb",
   "metadata": {},
   "source": [
    "#### нужно вычислить fines / refund * year для каждой строки"
   ]
  },
  {
   "cell_type": "markdown",
   "id": "05dbdd4b",
   "metadata": {},
   "source": [
    "- создать новый столбец с результатом"
   ]
  },
  {
   "cell_type": "markdown",
   "id": "266abdd5",
   "metadata": {},
   "source": [
    "- измерить время выполнения каждой реализации с помощью магической команды `%%timeit`"
   ]
  },
  {
   "cell_type": "markdown",
   "id": "bbb20d09",
   "metadata": {},
   "source": [
    "#### Loop + iloc + append"
   ]
  },
  {
   "cell_type": "markdown",
   "id": "5dc960c7",
   "metadata": {},
   "source": [
    "- `iloc[]` - Извлекает строку по индексу"
   ]
  },
  {
   "cell_type": "code",
   "execution_count": 3,
   "id": "2426a375",
   "metadata": {},
   "outputs": [
    {
     "name": "stdout",
     "output_type": "stream",
     "text": [
      "111 ms ± 4.8 ms per loop (mean ± std. dev. of 7 runs, 10 loops each)\n"
     ]
    }
   ],
   "source": [
    "%%timeit\n",
    "new_column = []\n",
    "\n",
    "for i in range(len(data)):\n",
    "    new_column.append(data.iloc[i]['Fines'] / data.iloc[i]['Refund'] * data.iloc[i]['Year'])\n",
    "\n",
    "data['Calculated'] = new_column"
   ]
  },
  {
   "cell_type": "markdown",
   "id": "f32ca8e2",
   "metadata": {},
   "source": [
    "#### iterrows()"
   ]
  },
  {
   "cell_type": "code",
   "execution_count": 5,
   "id": "2132b92d",
   "metadata": {},
   "outputs": [
    {
     "name": "stdout",
     "output_type": "stream",
     "text": [
      "36.5 ms ± 789 μs per loop (mean ± std. dev. of 7 runs, 10 loops each)\n"
     ]
    }
   ],
   "source": [
    "%%timeit\n",
    "\n",
    "new_column = []\n",
    "\n",
    "for _, row in data.iterrows():\n",
    "    new_column.append(row['Fines'] / row['Refund'] * row['Year'])\n",
    "\n",
    "data['Calculated'] = new_column"
   ]
  },
  {
   "cell_type": "markdown",
   "id": "6ad6e6c0",
   "metadata": {},
   "source": [
    "#### apply() / lambda"
   ]
  },
  {
   "cell_type": "code",
   "execution_count": 7,
   "id": "9aeb4e27",
   "metadata": {},
   "outputs": [
    {
     "name": "stdout",
     "output_type": "stream",
     "text": [
      "7.57 ms ± 179 μs per loop (mean ± std. dev. of 7 runs, 100 loops each)\n"
     ]
    }
   ],
   "source": [
    "%%timeit\n",
    "\n",
    "data['Calculated'] = data.apply(lambda row: row['Fines'] / row['Refund'] * row['Year'], axis=1)"
   ]
  },
  {
   "cell_type": "markdown",
   "id": "b7fa5bcd",
   "metadata": {},
   "source": [
    "#### Series"
   ]
  },
  {
   "cell_type": "code",
   "execution_count": 9,
   "id": "133c9197",
   "metadata": {},
   "outputs": [
    {
     "name": "stdout",
     "output_type": "stream",
     "text": [
      "183 μs ± 7.52 μs per loop (mean ± std. dev. of 7 runs, 10,000 loops each)\n"
     ]
    }
   ],
   "source": [
    "%%timeit\n",
    "\n",
    "data['Calculated'] = (data['Fines'] / data['Refund'] * data['Year'])"
   ]
  },
  {
   "cell_type": "markdown",
   "id": "9f44b9fb",
   "metadata": {},
   "source": [
    "#### .values"
   ]
  },
  {
   "cell_type": "code",
   "execution_count": 11,
   "id": "3c21aff7",
   "metadata": {},
   "outputs": [
    {
     "name": "stdout",
     "output_type": "stream",
     "text": [
      "90.8 μs ± 1.75 μs per loop (mean ± std. dev. of 7 runs, 10,000 loops each)\n"
     ]
    }
   ],
   "source": [
    "%%timeit\n",
    "\n",
    "fines = data['Fines'].values\n",
    "refund = data['Refund'].values\n",
    "year = data['Year'].values\n",
    "\n",
    "data['Calculated'] = (fines / refund * year)"
   ]
  },
  {
   "cell_type": "markdown",
   "id": "d2220189",
   "metadata": {},
   "source": [
    "## Индексация"
   ]
  },
  {
   "cell_type": "markdown",
   "id": "e432c174",
   "metadata": {},
   "source": [
    "- Получите строку по конкретному `CarNumber`, например `'O136HO197RUS'`.\n",
    "\n",
    "- Установите `CarNumber` как индекс.\n",
    "\n",
    "- Снова получите ту же строку по индексу."
   ]
  },
  {
   "cell_type": "markdown",
   "id": "d80cdda0",
   "metadata": {},
   "source": [
    "- Get row"
   ]
  },
  {
   "cell_type": "code",
   "execution_count": 12,
   "id": "f9a166a1",
   "metadata": {},
   "outputs": [
    {
     "name": "stdout",
     "output_type": "stream",
     "text": [
      "641 μs ± 14 μs per loop (mean ± std. dev. of 7 runs, 1,000 loops each)\n"
     ]
    }
   ],
   "source": [
    "%%timeit\n",
    "\n",
    "data.reset_index(inplace=True)\n",
    "\n",
    "data.set_index('CarNumber', inplace=True)\n",
    "\n",
    "car_row = data.loc['O136HO197RUS']"
   ]
  },
  {
   "cell_type": "markdown",
   "id": "44cea8f8",
   "metadata": {},
   "source": [
    "- Re-set индекса"
   ]
  },
  {
   "cell_type": "code",
   "execution_count": 13,
   "id": "d2639e76",
   "metadata": {},
   "outputs": [
    {
     "data": {
      "text/html": [
       "<div>\n",
       "<style scoped>\n",
       "    .dataframe tbody tr th:only-of-type {\n",
       "        vertical-align: middle;\n",
       "    }\n",
       "\n",
       "    .dataframe tbody tr th {\n",
       "        vertical-align: top;\n",
       "    }\n",
       "\n",
       "    .dataframe thead th {\n",
       "        text-align: right;\n",
       "    }\n",
       "</style>\n",
       "<table border=\"1\" class=\"dataframe\">\n",
       "  <thead>\n",
       "    <tr style=\"text-align: right;\">\n",
       "      <th></th>\n",
       "      <th>index</th>\n",
       "      <th>Refund</th>\n",
       "      <th>Fines</th>\n",
       "      <th>Make</th>\n",
       "      <th>Model</th>\n",
       "      <th>Year</th>\n",
       "      <th>Calculated</th>\n",
       "    </tr>\n",
       "    <tr>\n",
       "      <th>CarNumber</th>\n",
       "      <th></th>\n",
       "      <th></th>\n",
       "      <th></th>\n",
       "      <th></th>\n",
       "      <th></th>\n",
       "      <th></th>\n",
       "      <th></th>\n",
       "    </tr>\n",
       "  </thead>\n",
       "  <tbody>\n",
       "    <tr>\n",
       "      <th>O136HO197RUS</th>\n",
       "      <td>715</td>\n",
       "      <td>2.0</td>\n",
       "      <td>7800.0</td>\n",
       "      <td>Toyota</td>\n",
       "      <td>Corolla</td>\n",
       "      <td>1999</td>\n",
       "      <td>7796100.0</td>\n",
       "    </tr>\n",
       "    <tr>\n",
       "      <th>O136HO197RUS</th>\n",
       "      <td>902</td>\n",
       "      <td>1.0</td>\n",
       "      <td>300.0</td>\n",
       "      <td>Toyota</td>\n",
       "      <td>Corolla</td>\n",
       "      <td>1991</td>\n",
       "      <td>597300.0</td>\n",
       "    </tr>\n",
       "  </tbody>\n",
       "</table>\n",
       "</div>"
      ],
      "text/plain": [
       "              index  Refund   Fines    Make    Model  Year  Calculated\n",
       "CarNumber                                                             \n",
       "O136HO197RUS    715     2.0  7800.0  Toyota  Corolla  1999   7796100.0\n",
       "O136HO197RUS    902     1.0   300.0  Toyota  Corolla  1991    597300.0"
      ]
     },
     "execution_count": 13,
     "metadata": {},
     "output_type": "execute_result"
    }
   ],
   "source": [
    "data.reset_index(inplace=True)\n",
    "data.set_index('CarNumber', inplace=True)\n",
    "car_row = data.loc['O136HO197RUS']\n",
    "\n",
    "car_row"
   ]
  },
  {
   "cell_type": "markdown",
   "id": "a5752b63",
   "metadata": {},
   "source": [
    "## Downcasting"
   ]
  },
  {
   "cell_type": "markdown",
   "id": "aee87796",
   "metadata": {},
   "source": [
    "- Запустите `df.info(memory_usage='deep')`. Обратите внимание на типы данных и объём памяти.\n",
    "\n",
    "- Создайте копию *DataFrame*: `optimized = df.copy()`.\n",
    "\n",
    "- Преобразуйте все столбцы `float64` в `float32`.\n",
    "\n",
    "- Преобразуйте все `int64` в наименьший возможный числовой тип.\n",
    "\n",
    "- Запустите снова `info(memory_usage='deep')` — сравните с изначальным *DataFrame*."
   ]
  },
  {
   "cell_type": "markdown",
   "id": "cb4a9c53",
   "metadata": {},
   "source": [
    "---"
   ]
  },
  {
   "cell_type": "markdown",
   "id": "09057704",
   "metadata": {},
   "source": [
    "- `info` - который выводит информацию о структуре *DataFrame*\n",
    "\n",
    "- `memory_usage='deep'` - заставляет pandas рассчитать реальный объем памяти - включая содержимое строковых данных"
   ]
  },
  {
   "cell_type": "code",
   "execution_count": 14,
   "id": "bb8ed53e",
   "metadata": {},
   "outputs": [
    {
     "name": "stdout",
     "output_type": "stream",
     "text": [
      "<class 'pandas.core.frame.DataFrame'>\n",
      "Index: 930 entries, Y163O8161RUS to B345GH77RUS\n",
      "Data columns (total 7 columns):\n",
      " #   Column      Non-Null Count  Dtype  \n",
      "---  ------      --------------  -----  \n",
      " 0   index       930 non-null    int64  \n",
      " 1   Refund      930 non-null    float64\n",
      " 2   Fines       930 non-null    float64\n",
      " 3   Make        930 non-null    object \n",
      " 4   Model       919 non-null    object \n",
      " 5   Year        930 non-null    int64  \n",
      " 6   Calculated  930 non-null    float64\n",
      "dtypes: float64(3), int64(2), object(2)\n",
      "memory usage: 221.5 KB\n"
     ]
    }
   ],
   "source": [
    "data.info(memory_usage='deep')"
   ]
  },
  {
   "cell_type": "markdown",
   "id": "c5854fcd",
   "metadata": {},
   "source": [
    "\n",
    "- `float64` в `float32`"
   ]
  },
  {
   "cell_type": "markdown",
   "id": "6ec181f9",
   "metadata": {},
   "source": [
    "---"
   ]
  },
  {
   "cell_type": "markdown",
   "id": "7444c537",
   "metadata": {},
   "source": [
    "- `to_numeric()` - Преобразует входные данные в числовой тип\n",
    "\n",
    "- `downcast='float'` - Указывает, что нужно использовать наименьший возможный тип данных с плавающей точкой"
   ]
  },
  {
   "cell_type": "code",
   "execution_count": 15,
   "id": "4f76b97f",
   "metadata": {},
   "outputs": [
    {
     "name": "stdout",
     "output_type": "stream",
     "text": [
      "<class 'pandas.core.frame.DataFrame'>\n",
      "Index: 930 entries, Y163O8161RUS to B345GH77RUS\n",
      "Data columns (total 7 columns):\n",
      " #   Column      Non-Null Count  Dtype  \n",
      "---  ------      --------------  -----  \n",
      " 0   index       930 non-null    int64  \n",
      " 1   Refund      930 non-null    float32\n",
      " 2   Fines       930 non-null    float32\n",
      " 3   Make        930 non-null    object \n",
      " 4   Model       919 non-null    object \n",
      " 5   Year        930 non-null    int64  \n",
      " 6   Calculated  930 non-null    float64\n",
      "dtypes: float32(2), float64(1), int64(2), object(2)\n",
      "memory usage: 214.3 KB\n"
     ]
    }
   ],
   "source": [
    "data_optimized = data.copy()\n",
    "\n",
    "data_optimized['Fines'] = pd.to_numeric(data_optimized['Fines'], downcast='float')\n",
    "data_optimized['Refund'] = pd.to_numeric(data_optimized['Refund'], downcast='float')\n",
    "\n",
    "data_optimized.info(memory_usage='deep')"
   ]
  },
  {
   "cell_type": "markdown",
   "id": "dc051051",
   "metadata": {},
   "source": [
    "- `int64` в *наименьший возможный числовой тип*"
   ]
  },
  {
   "cell_type": "code",
   "execution_count": 16,
   "id": "1ac10a71",
   "metadata": {},
   "outputs": [
    {
     "name": "stdout",
     "output_type": "stream",
     "text": [
      "<class 'pandas.core.frame.DataFrame'>\n",
      "Index: 930 entries, Y163O8161RUS to B345GH77RUS\n",
      "Data columns (total 7 columns):\n",
      " #   Column      Non-Null Count  Dtype  \n",
      "---  ------      --------------  -----  \n",
      " 0   index       930 non-null    int64  \n",
      " 1   Refund      930 non-null    float32\n",
      " 2   Fines       930 non-null    float32\n",
      " 3   Make        930 non-null    object \n",
      " 4   Model       919 non-null    object \n",
      " 5   Year        930 non-null    int16  \n",
      " 6   Calculated  930 non-null    float64\n",
      "dtypes: float32(2), float64(1), int16(1), int64(1), object(2)\n",
      "memory usage: 208.8 KB\n"
     ]
    }
   ],
   "source": [
    "data_optimized['Year'] = pd.to_numeric(data_optimized['Year'], downcast='integer')\n",
    "\n",
    "data_optimized.info(memory_usage='deep')"
   ]
  },
  {
   "cell_type": "markdown",
   "id": "68342544",
   "metadata": {},
   "source": [
    "## Категории"
   ]
  },
  {
   "cell_type": "markdown",
   "id": "2daaa848",
   "metadata": {},
   "source": [
    "- Преобразуйте все столбцы с типом `object` в тип `category`.\n",
    "\n",
    "- Проверьте объём памяти — он должен уменьшиться в 2–3 раза по сравнению с начальным вариантом."
   ]
  },
  {
   "cell_type": "code",
   "execution_count": 17,
   "id": "bf64a780",
   "metadata": {},
   "outputs": [
    {
     "name": "stdout",
     "output_type": "stream",
     "text": [
      "<class 'pandas.core.frame.DataFrame'>\n",
      "RangeIndex: 930 entries, 0 to 929\n",
      "Data columns (total 8 columns):\n",
      " #   Column      Non-Null Count  Dtype   \n",
      "---  ------      --------------  -----   \n",
      " 0   CarNumber   930 non-null    category\n",
      " 1   index       930 non-null    int64   \n",
      " 2   Refund      930 non-null    float32 \n",
      " 3   Fines       930 non-null    float32 \n",
      " 4   Make        930 non-null    object  \n",
      " 5   Model       919 non-null    object  \n",
      " 6   Year        930 non-null    int16   \n",
      " 7   Calculated  930 non-null    float64 \n",
      "dtypes: category(1), float32(2), float64(1), int16(1), int64(1), object(2)\n",
      "memory usage: 171.2 KB\n"
     ]
    }
   ],
   "source": [
    "data_optimized.reset_index(inplace=True)\n",
    "data_optimized['CarNumber'] = data_optimized['CarNumber'].astype('category')\n",
    "\n",
    "data_optimized.info(memory_usage='deep')"
   ]
  },
  {
   "cell_type": "markdown",
   "id": "f64e7bba",
   "metadata": {},
   "source": [
    "## Очистка памяти"
   ]
  },
  {
   "cell_type": "markdown",
   "id": "22defc9a",
   "metadata": {},
   "source": [
    "- `gc.collect()` - Запускает сборщик мусора в *Python*, чтобы принудительно освободить память, занятую объектами, на которые больше нет ссылок"
   ]
  },
  {
   "cell_type": "code",
   "execution_count": 18,
   "id": "ffa263e2",
   "metadata": {},
   "outputs": [
    {
     "data": {
      "text/plain": [
       "0"
      ]
     },
     "execution_count": 18,
     "metadata": {},
     "output_type": "execute_result"
    }
   ],
   "source": [
    "del data\n",
    "\n",
    "gc.collect()"
   ]
  }
 ],
 "metadata": {
  "kernelspec": {
   "display_name": "PandasVenv",
   "language": "python",
   "name": "python3"
  },
  "language_info": {
   "codemirror_mode": {
    "name": "ipython",
    "version": 3
   },
   "file_extension": ".py",
   "mimetype": "text/x-python",
   "name": "python",
   "nbconvert_exporter": "python",
   "pygments_lexer": "ipython3",
   "version": "3.12.7"
  }
 },
 "nbformat": 4,
 "nbformat_minor": 5
}
