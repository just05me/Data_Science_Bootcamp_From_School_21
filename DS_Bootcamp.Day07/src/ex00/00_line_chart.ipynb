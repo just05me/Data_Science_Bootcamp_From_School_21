{
 "cells": [
  {
   "cell_type": "code",
   "execution_count": 56,
   "id": "8939651e",
   "metadata": {},
   "outputs": [],
   "source": [
    "import pandas as pd\n",
    "import sqlite3"
   ]
  },
  {
   "cell_type": "markdown",
   "id": "6e728132",
   "metadata": {},
   "source": [
    "## Подключение к БД"
   ]
  },
  {
   "cell_type": "code",
   "execution_count": 57,
   "id": "b0a66185",
   "metadata": {},
   "outputs": [],
   "source": [
    "data = sqlite3.connect(\"../data/checking-logs.sqlite\")"
   ]
  },
  {
   "cell_type": "markdown",
   "id": "e09c6c37",
   "metadata": {},
   "source": [
    "## Получить даты `datetime` из таблицы `pageviews` только для пользователей `user_*`, без админов"
   ]
  },
  {
   "cell_type": "code",
   "execution_count": 58,
   "id": "8caf5b92",
   "metadata": {},
   "outputs": [],
   "source": [
    "sql_request = \"\"\"\n",
    "Select uid, datetime FROM pageviews WHERE uid LIKE 'user_%'\n",
    "\"\"\"\n",
    "\n",
    "dataframe = pd.read_sql(sql_request, data)"
   ]
  },
  {
   "cell_type": "code",
   "execution_count": 59,
   "id": "1aa164fb",
   "metadata": {},
   "outputs": [
    {
     "data": {
      "text/html": [
       "<div>\n",
       "<style scoped>\n",
       "    .dataframe tbody tr th:only-of-type {\n",
       "        vertical-align: middle;\n",
       "    }\n",
       "\n",
       "    .dataframe tbody tr th {\n",
       "        vertical-align: top;\n",
       "    }\n",
       "\n",
       "    .dataframe thead th {\n",
       "        text-align: right;\n",
       "    }\n",
       "</style>\n",
       "<table border=\"1\" class=\"dataframe\">\n",
       "  <thead>\n",
       "    <tr style=\"text-align: right;\">\n",
       "      <th></th>\n",
       "      <th>uid</th>\n",
       "      <th>datetime</th>\n",
       "    </tr>\n",
       "  </thead>\n",
       "  <tbody>\n",
       "    <tr>\n",
       "      <th>0</th>\n",
       "      <td>user_30</td>\n",
       "      <td>2020-04-17 22:46:26.785035</td>\n",
       "    </tr>\n",
       "    <tr>\n",
       "      <th>1</th>\n",
       "      <td>user_14</td>\n",
       "      <td>2020-04-18 10:53:52.623447</td>\n",
       "    </tr>\n",
       "    <tr>\n",
       "      <th>2</th>\n",
       "      <td>user_17</td>\n",
       "      <td>2020-04-18 10:56:55.833899</td>\n",
       "    </tr>\n",
       "    <tr>\n",
       "      <th>3</th>\n",
       "      <td>user_14</td>\n",
       "      <td>2020-04-18 10:57:37.331258</td>\n",
       "    </tr>\n",
       "    <tr>\n",
       "      <th>4</th>\n",
       "      <td>user_17</td>\n",
       "      <td>2020-04-18 12:05:48.200144</td>\n",
       "    </tr>\n",
       "    <tr>\n",
       "      <th>...</th>\n",
       "      <td>...</td>\n",
       "      <td>...</td>\n",
       "    </tr>\n",
       "    <tr>\n",
       "      <th>982</th>\n",
       "      <td>user_28</td>\n",
       "      <td>2020-05-21 18:45:20.441142</td>\n",
       "    </tr>\n",
       "    <tr>\n",
       "      <th>983</th>\n",
       "      <td>user_19</td>\n",
       "      <td>2020-05-21 23:03:06.457819</td>\n",
       "    </tr>\n",
       "    <tr>\n",
       "      <th>984</th>\n",
       "      <td>user_25</td>\n",
       "      <td>2020-05-21 23:23:49.995349</td>\n",
       "    </tr>\n",
       "    <tr>\n",
       "      <th>985</th>\n",
       "      <td>user_5</td>\n",
       "      <td>2020-05-22 11:30:18.368990</td>\n",
       "    </tr>\n",
       "    <tr>\n",
       "      <th>986</th>\n",
       "      <td>user_17</td>\n",
       "      <td>2020-05-22 18:22:22.847815</td>\n",
       "    </tr>\n",
       "  </tbody>\n",
       "</table>\n",
       "<p>987 rows × 2 columns</p>\n",
       "</div>"
      ],
      "text/plain": [
       "         uid                    datetime\n",
       "0    user_30  2020-04-17 22:46:26.785035\n",
       "1    user_14  2020-04-18 10:53:52.623447\n",
       "2    user_17  2020-04-18 10:56:55.833899\n",
       "3    user_14  2020-04-18 10:57:37.331258\n",
       "4    user_17  2020-04-18 12:05:48.200144\n",
       "..       ...                         ...\n",
       "982  user_28  2020-05-21 18:45:20.441142\n",
       "983  user_19  2020-05-21 23:03:06.457819\n",
       "984  user_25  2020-05-21 23:23:49.995349\n",
       "985   user_5  2020-05-22 11:30:18.368990\n",
       "986  user_17  2020-05-22 18:22:22.847815\n",
       "\n",
       "[987 rows x 2 columns]"
      ]
     },
     "execution_count": 59,
     "metadata": {},
     "output_type": "execute_result"
    }
   ],
   "source": [
    "dataframe"
   ]
  },
  {
   "cell_type": "markdown",
   "id": "1a8d52b4",
   "metadata": {},
   "source": [
    "## Преобразуем столбец `datetime` в `datetime64[ns]`"
   ]
  },
  {
   "cell_type": "code",
   "execution_count": 60,
   "id": "39d6a68f",
   "metadata": {},
   "outputs": [],
   "source": [
    "dataframe['datetime'] = pd.to_datetime(dataframe['datetime'])"
   ]
  },
  {
   "cell_type": "markdown",
   "id": "bab9f819",
   "metadata": {},
   "source": [
    "## В *Pandas* сгруппировать посещения по дате"
   ]
  },
  {
   "cell_type": "markdown",
   "id": "081c8caa",
   "metadata": {},
   "source": [
    "---"
   ]
  },
  {
   "cell_type": "markdown",
   "id": "da85fe60",
   "metadata": {},
   "source": [
    "- Групирует по столбцу `datetime` из *dataframe*. И при групировке берет только Дату с строки. При групировке суммирует\n",
    "\n",
    "    - И все это присваивают к `dataframe_view`\n",
    "\n",
    "- Переименовываем столбец `datetime` в `view`\n",
    "\n",
    "- К столбцу с индексами даем назвение `date`"
   ]
  },
  {
   "cell_type": "code",
   "execution_count": 61,
   "id": "1f11a861",
   "metadata": {},
   "outputs": [
    {
     "data": {
      "text/plain": [
       "date\n",
       "2020-04-17      1\n",
       "2020-04-18     23\n",
       "2020-04-19     15\n",
       "2020-04-21      3\n",
       "2020-04-22      1\n",
       "2020-04-23      5\n",
       "2020-04-25      1\n",
       "2020-04-26      8\n",
       "2020-04-28      2\n",
       "2020-04-29      4\n",
       "2020-04-30      9\n",
       "2020-05-01      3\n",
       "2020-05-02      6\n",
       "2020-05-03     19\n",
       "2020-05-04      1\n",
       "2020-05-05      1\n",
       "2020-05-06      3\n",
       "2020-05-07      2\n",
       "2020-05-08     48\n",
       "2020-05-09     19\n",
       "2020-05-10    110\n",
       "2020-05-11    200\n",
       "2020-05-12     85\n",
       "2020-05-13    102\n",
       "2020-05-14    187\n",
       "2020-05-15     29\n",
       "2020-05-16      4\n",
       "2020-05-17      9\n",
       "2020-05-18     51\n",
       "2020-05-19     11\n",
       "2020-05-20     12\n",
       "2020-05-21     11\n",
       "2020-05-22      2\n",
       "Name: view, dtype: int64"
      ]
     },
     "execution_count": 61,
     "metadata": {},
     "output_type": "execute_result"
    }
   ],
   "source": [
    "dataframe_view = dataframe.groupby(dataframe[\"datetime\"].dt.date).count()\n",
    "\n",
    "dataframe_view = dataframe_view[\"datetime\"].rename(\"view\")\n",
    "\n",
    "dataframe_view.index.name = 'date'\n",
    "\n",
    "dataframe_view"
   ]
  },
  {
   "cell_type": "markdown",
   "id": "28790f04",
   "metadata": {},
   "source": [
    "## Cоздать граф с помощью `plot()`"
   ]
  },
  {
   "cell_type": "markdown",
   "id": "4f9b6950",
   "metadata": {},
   "source": [
    "---"
   ]
  },
  {
   "cell_type": "markdown",
   "id": "49222e16",
   "metadata": {},
   "source": [
    "- `plot()` - функция *pandas* которая может частично выполнять действия *Matplotlibe*\n",
    "\n",
    "    - `x=\"date\"` - на ось `Х` дают данные с столбца `date`\n",
    "\n",
    "    - `y=\"view\"` - на ось `Y` дают данные с столбца `view`\n",
    "\n",
    "    - `kind=\"line\"` - Тип гравика. *Линейный*\n",
    "\n",
    "    - `title=\"View per day\"` - Заголовок графика\n",
    "\n",
    "    - `figsize=(15,8)` - Фиксированный размер графика\n",
    "\n",
    "    - `fontsize=8` - Размер шрифта\n",
    "\n",
    "    - `rot=90` - Под каким углом будут записи"
   ]
  },
  {
   "cell_type": "code",
   "execution_count": 70,
   "id": "33fcb433",
   "metadata": {},
   "outputs": [
    {
     "data": {
      "text/plain": [
       "<Axes: title={'center': 'View per day'}, xlabel='date'>"
      ]
     },
     "execution_count": 70,
     "metadata": {},
     "output_type": "execute_result"
    },
    {
     "data": {
      "image/png": "[encoded data removed]",
      "text/plain": [
       "<Figure size 1500x800 with 1 Axes>"
      ]
     },
     "metadata": {},
     "output_type": "display_data"
    }
   ],
   "source": [
    "dataframe_view.plot(x=\"date\", y=\"view\", kind=\"line\", title=\"View per day\", figsize=(15,8), fontsize=8, rot=90)"
   ]
  },
  {
   "cell_type": "code",
   "execution_count": 66,
   "id": "8dd813c3",
   "metadata": {},
   "outputs": [],
   "source": [
    "data.close()"
   ]
  }
 ],
 "metadata": {
  "kernelspec": {
   "display_name": "PandasVenv",
   "language": "python",
   "name": "python3"
  },
  "language_info": {
   "codemirror_mode": {
    "name": "ipython",
    "version": 3
   },
   "file_extension": ".py",
   "mimetype": "text/x-python",
   "name": "python",
   "nbconvert_exporter": "python",
   "pygments_lexer": "ipython3",
   "version": "3.12.7"
  }
 },
 "nbformat": 4,
 "nbformat_minor": 5
}
